{
  "nbformat": 4,
  "nbformat_minor": 0,
  "metadata": {
    "colab": {
      "provenance": [],
      "include_colab_link": true
    },
    "kernelspec": {
      "name": "python3",
      "display_name": "Python 3"
    },
    "language_info": {
      "name": "python"
    }
  },
  "cells": [
    {
      "cell_type": "markdown",
      "metadata": {
        "id": "view-in-github",
        "colab_type": "text"
      },
      "source": [
        "<a href=\"https://colab.research.google.com/github/avihai1002/Avihai-_Git_-Ex1/blob/main/PythonModule.ipynb\" target=\"_parent\"><img src=\"https://colab.research.google.com/assets/colab-badge.svg\" alt=\"Open In Colab\"/></a>"
      ]
    },
    {
      "cell_type": "markdown",
      "source": [
        "# Env Setup\n",
        "\n",
        "- Configure your python interpreter: https://www.jetbrains.com/help/pycharm/creating-virtual-environment.html \n",
        "- Python file vs Python console and notebooks \n",
        "\n"
      ],
      "metadata": {
        "id": "LCNaANnlfgfq"
      }
    },
    {
      "cell_type": "markdown",
      "source": [
        "This module inspired by https://www.udemy.com/course/complete-python-bootcamp/ \n"
      ],
      "metadata": {
        "id": "U7niBgY5fnvV"
      }
    },
    {
      "cell_type": "markdown",
      "source": [
        "# Debuggning your code in PyCharm\n",
        "https://www.jetbrains.com/help/pycharm/debugging-your-first-python-application.html"
      ],
      "metadata": {
        "id": "HhPdmi6FGuxf"
      }
    },
    {
      "cell_type": "markdown",
      "source": [
        "# Further Reading\n",
        "\n",
        "#### Same id for python different immutable python objects\n",
        "https://stackoverflow.com/questions/21091568/why-two-individually-created-immutable-objects-have-same-id-and-mutable-objects\n",
        "\n",
        "#### Python `super()` method\n",
        "https://stackoverflow.com/questions/576169/understanding-python-super-with-init-methods\n",
        "\n",
        "\n",
        "#### Python static varialbe and methods \n",
        "https://stackoverflow.com/questions/68645/static-class-variables-and-methods-in-python\n",
        "\n",
        "\n",
        "#### Python design patterns\n",
        "https://python-patterns.guide/\n",
        "\n",
        "\n",
        "\n",
        "#### Python regular expressions \n",
        "https://realpython.com/regex-python/\n",
        "\n"
      ],
      "metadata": {
        "id": "FB7uFmm1qWWN"
      }
    },
    {
      "cell_type": "markdown",
      "source": [
        "# Python Katas\n",
        "\n",
        "**Kata** is a Japanese word (型 or 形) meaning \"form\". It refers to a detailed choreographed pattern of martial arts movements made to be practised *alone*.\n",
        "\n",
        "During this module, you are obliged to earn **at least 55 Katas**\n",
        "\n",
        "- New python questions will be published once a week (Friday)\n",
        "- Each question is 1 Kata, some are 2\n",
        "- Each one of you has an opportunity to write Python unittests for the weekly questions set, and **earn 10 Katas** for that. Unittests must be submitted through a PR in Github and reviewed by a course stuff (Alon or Jenya). On PR completion, you should merge branch `main` to your branch called `python_katas_<alias>` (change <alias\\> to your name) in which you will solve all your Katas\n",
        "- Katas are published regardless the big exercises that are published from time to time\n",
        "- In order to earn a Kata, you must pass the unittests. Your solutions are randomly tested manually by a course stuff, if you fool a test, you will be loss 10 Katas\n"
      ],
      "metadata": {
        "id": "8IN_eoGSfsh-"
      }
    },
    {
      "cell_type": "markdown",
      "source": [
        "# Testers weekly lottery"
      ],
      "metadata": {
        "id": "-rPfL2HSgMPA"
      }
    },
    {
      "cell_type": "code",
      "execution_count": null,
      "metadata": {
        "id": "HeM4ldjWRBL0"
      },
      "outputs": [],
      "source": [
        "students = [\n",
        "    'AdanBhsas', 'AlexeyMihaylovDev', 'Amitpoz', 'Daniel-Reuven', 'danielbar0101', 'danielmalka14',\n",
        "    'Danishain', 'Ddady1', 'dmitriyshub', 'dorondollev', 'DustyMadDude', 'edenganon',\n",
        "    'eliranshriki', 'elkan316', 'Gershoz', 'Haimr101', 'itayb12', 'JohnSchiff',\n",
        "    'kostalubarsky', 'mkshamir', 'netanalm', 'poratnick', 'RamiKandov', 'shayalon', 'Shaykc',\n",
        "    'shaysoso', 'shlomigd', 'xXxARLxXx', 'yakirfrid', 'yosefdudi', 'zoharn007'\n",
        "]"
      ]
    },
    {
      "cell_type": "code",
      "source": [
        "import random\n",
        "random.shuffle(students)\n",
        "\n",
        "print('Testers for Kata 1:\\n')\n",
        "students[:7]\n",
        "\n"
      ],
      "metadata": {
        "id": "dvpwM4TId0D8",
        "colab": {
          "base_uri": "https://localhost:8080/"
        },
        "outputId": "210c8419-bd29-4f90-b089-bc42679f5f79"
      },
      "execution_count": null,
      "outputs": [
        {
          "output_type": "stream",
          "name": "stdout",
          "text": [
            "Testers for Kata 1:\n",
            "\n"
          ]
        },
        {
          "output_type": "execute_result",
          "data": {
            "text/plain": [
              "['AdanBhsas',\n",
              " 'RamiKandov',\n",
              " 'netanalm',\n",
              " 'yosefdudi',\n",
              " 'elkan316',\n",
              " 'DustyMadDude',\n",
              " 'danielmalka14']"
            ]
          },
          "metadata": {},
          "execution_count": 3
        }
      ]
    },
    {
      "cell_type": "markdown",
      "source": [
        "# Sematic Version \n",
        "\n",
        "Please read versioning semantic: \n",
        "https://semver.org/\n",
        "\n",
        "Explore Flask Changelog: https://flask.palletsprojects.com/en/2.1.x/changes/  \n",
        "Find an example for patch, minor and major changes.\n",
        "\n",
        "\n",
        "\n"
      ],
      "metadata": {
        "id": "FPFB0PQSs2cE"
      }
    },
    {
      "cell_type": "markdown",
      "metadata": {
        "id": "DRZ6rowMuaOW"
      },
      "source": [
        "# `pylint`\n",
        "\n",
        "`pylint` tests for style as well as some very basic program logic."
      ]
    },
    {
      "cell_type": "markdown",
      "metadata": {
        "id": "3eNIOesJuaOY"
      },
      "source": [
        "First, if you don't have it already (and you probably do, as it's part of the Anaconda distribution), you should install `pylint`.<br>Once that's done feel free to comment out the cell, you won't need it anymore."
      ]
    },
    {
      "cell_type": "code",
      "execution_count": null,
      "metadata": {
        "collapsed": true,
        "id": "A_S04zrluaOZ"
      },
      "outputs": [],
      "source": [
        "! pip install pylint"
      ]
    },
    {
      "cell_type": "markdown",
      "metadata": {
        "id": "ScvwHSjpuaOb"
      },
      "source": [
        "Let's save a very simple script:"
      ]
    },
    {
      "cell_type": "code",
      "execution_count": null,
      "metadata": {
        "id": "lJbvGP6muaOc",
        "outputId": "fd7c1605-e49a-45dd-e3d0-2df7fd77361c"
      },
      "outputs": [
        {
          "name": "stdout",
          "output_type": "stream",
          "text": [
            "Overwriting simple1.py\n"
          ]
        }
      ],
      "source": [
        "%%writefile simple1.py\n",
        "a = 1\n",
        "b = 2\n",
        "print(a)\n",
        "print(B)"
      ]
    },
    {
      "cell_type": "markdown",
      "metadata": {
        "id": "mbfxHyKPuaOf"
      },
      "source": [
        "Now let's check it using pylint"
      ]
    },
    {
      "cell_type": "code",
      "execution_count": null,
      "metadata": {
        "id": "cRNaXMsfuaOg",
        "outputId": "49606abd-852b-4c86-f20b-0d07ad5fde1b"
      },
      "outputs": [
        {
          "name": "stdout",
          "output_type": "stream",
          "text": [
            "************* Module simple1\n",
            "C:  4, 0: Final newline missing (missing-final-newline)\n",
            "C:  1, 0: Missing module docstring (missing-docstring)\n",
            "C:  1, 0: Invalid constant name \"a\" (invalid-name)\n",
            "C:  2, 0: Invalid constant name \"b\" (invalid-name)\n",
            "E:  4, 6: Undefined variable 'B' (undefined-variable)\n",
            "\n",
            "---------------------------------------------------------------------\n",
            "\n",
            "Your code has been rated at -12.50/10 (previous run: 8.33/10, -20.83)\n",
            "\n",
            "\n",
            "\n"
          ]
        },
        {
          "name": "stderr",
          "output_type": "stream",
          "text": [
            "No config file found, using default configuration\n"
          ]
        }
      ],
      "source": [
        "! pylint simple1.py"
      ]
    },
    {
      "cell_type": "markdown",
      "metadata": {
        "id": "zSdYXx0ouaOj"
      },
      "source": [
        "Pylint first lists some styling issues - it would like to see an extra newline at the end, modules and function definitions should have descriptive docstrings, and single characters are a poor choice for variable names.\n",
        "\n",
        "More importantly, however, pylint identified an error in the program - a variable called before assignment. This needs fixing.\n",
        "\n",
        "Note that pylint scored our program a negative 12.5 out of 10. Let's try to improve that!"
      ]
    },
    {
      "cell_type": "code",
      "execution_count": null,
      "metadata": {
        "id": "53Mm8JcouaOl",
        "outputId": "8c85eed4-90a6-4774-fc12-a358da9f8bb4"
      },
      "outputs": [
        {
          "name": "stdout",
          "output_type": "stream",
          "text": [
            "Overwriting simple1.py\n"
          ]
        }
      ],
      "source": [
        "%%writefile simple1.py\n",
        "\"\"\"\n",
        "A very simple script.\n",
        "\"\"\"\n",
        "\n",
        "def myfunc():\n",
        "    \"\"\"\n",
        "    An extremely simple function.\n",
        "    \"\"\"\n",
        "    first = 1\n",
        "    second = 2\n",
        "    print(first)\n",
        "    print(second)\n",
        "\n",
        "myfunc()"
      ]
    },
    {
      "cell_type": "code",
      "execution_count": null,
      "metadata": {
        "id": "68arw_IquaOn",
        "outputId": "23ebeb6b-cb7a-4e26-9f03-f7d500abcaad"
      },
      "outputs": [
        {
          "name": "stdout",
          "output_type": "stream",
          "text": [
            "************* Module simple1\n",
            "C: 14, 0: Final newline missing (missing-final-newline)\n",
            "\n",
            "---------------------------------------------------------------------\n",
            "\n",
            "Your code has been rated at 8.33/10 (previous run: -12.50/10, +20.83)\n",
            "\n",
            "\n",
            "\n"
          ]
        },
        {
          "name": "stderr",
          "output_type": "stream",
          "text": [
            "No config file found, using default configuration\n"
          ]
        }
      ],
      "source": [
        "! pylint simple1.py"
      ]
    },
    {
      "cell_type": "markdown",
      "metadata": {
        "id": "bwYReRupuaOo"
      },
      "source": [
        "Much better! Our score climbed to 8.33 out of 10. Unfortunately, the final newline has to do with how jupyter writes to a file, and there's not much we can do about that here. Still, pylint helped us troubleshoot some of our problems. But what if the problem was more complex?"
      ]
    },
    {
      "cell_type": "code",
      "execution_count": null,
      "metadata": {
        "id": "Sz4oaQaouaOp",
        "outputId": "cd41a720-ce4c-4c4f-eb06-c32e188f1a2d"
      },
      "outputs": [
        {
          "name": "stdout",
          "output_type": "stream",
          "text": [
            "Overwriting simple2.py\n"
          ]
        }
      ],
      "source": [
        "%%writefile simple2.py\n",
        "\"\"\"\n",
        "A very simple script.\n",
        "\"\"\"\n",
        "\n",
        "def myfunc():\n",
        "    \"\"\"\n",
        "    An extremely simple function.\n",
        "    \"\"\"\n",
        "    first = 1\n",
        "    second = 2\n",
        "    print(first)\n",
        "    print('second')\n",
        "\n",
        "myfunc()"
      ]
    },
    {
      "cell_type": "code",
      "execution_count": null,
      "metadata": {
        "id": "u7Wg2x_6uaOt",
        "outputId": "d06232f4-a68f-4bcb-cb37-b9ad631aadc7"
      },
      "outputs": [
        {
          "name": "stdout",
          "output_type": "stream",
          "text": [
            "************* Module simple2\n",
            "C: 14, 0: Final newline missing (missing-final-newline)\n",
            "W: 10, 4: Unused variable 'second' (unused-variable)\n",
            "\n",
            "------------------------------------------------------------------\n",
            "\n",
            "Your code has been rated at 6.67/10 (previous run: 6.67/10, +0.00)\n",
            "\n",
            "\n",
            "\n"
          ]
        },
        {
          "name": "stderr",
          "output_type": "stream",
          "text": [
            "No config file found, using default configuration\n"
          ]
        }
      ],
      "source": [
        "! pylint simple2.py"
      ]
    },
    {
      "cell_type": "markdown",
      "metadata": {
        "id": "x5MJC03euaOu"
      },
      "source": [
        "pylint tells us there's an unused variable in line 10, but it doesn't know that we might get an unexpected output from line 12! For this we need a more robust set of tools. That's where `unittest` comes in."
      ]
    }
  ]
}