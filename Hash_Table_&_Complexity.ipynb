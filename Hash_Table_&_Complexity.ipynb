{
  "nbformat": 4,
  "nbformat_minor": 0,
  "metadata": {
    "colab": {
      "provenance": [],
      "include_colab_link": true
    },
    "kernelspec": {
      "name": "python3",
      "display_name": "Python 3"
    },
    "language_info": {
      "name": "python"
    }
  },
  "cells": [
    {
      "cell_type": "markdown",
      "metadata": {
        "id": "view-in-github",
        "colab_type": "text"
      },
      "source": [
        "<a href=\"https://colab.research.google.com/github/avihai1002/Avihai-_Git_-Ex1/blob/main/Hash_Table_%26_Complexity.ipynb\" target=\"_parent\"><img src=\"https://colab.research.google.com/assets/colab-badge.svg\" alt=\"Open In Colab\"/></a>"
      ]
    },
    {
      "cell_type": "markdown",
      "source": [
        "# Hash Tables and Time Complexity"
      ],
      "metadata": {
        "id": "Ds4KwJTZ6_gL"
      }
    },
    {
      "cell_type": "markdown",
      "source": [
        "Computational complexity is a field from computer science which analyzes algorithms based on the amount resources required for running it, by means of time (cpu consumption) and space (memory)"
      ],
      "metadata": {
        "id": "JBFhyih96-Ur"
      }
    },
    {
      "cell_type": "markdown",
      "metadata": {
        "id": "EGe55-81Da1O"
      },
      "source": [
        "# Let's start with an example\n",
        "\n",
        "The problem: adding 1 to n\n",
        "\n",
        "\n",
        "The naive solution is to calculate: $1+2+3+4+5+6+7+......$. \n",
        "\n",
        "**Python Solution 1**\n",
        "\n",
        "\n",
        "\n"
      ]
    },
    {
      "cell_type": "code",
      "source": [
        "def summation(n):\n",
        "    result = 0\n",
        "    for i in range(1, n+1):\n",
        "        result += i\n",
        "    \n",
        "    return result\n",
        "\n",
        "array = [1, 2, 3, 4, 5]\n",
        "summation(5) == sum(array) #expected True"
      ],
      "metadata": {
        "colab": {
          "base_uri": "https://localhost:8080/"
        },
        "id": "CvUwYMWnG63S",
        "outputId": "2b1a1fdf-e8bd-4cc1-a6a9-6133b38f112d"
      },
      "execution_count": null,
      "outputs": [
        {
          "output_type": "execute_result",
          "data": {
            "text/plain": [
              "True"
            ]
          },
          "metadata": {},
          "execution_count": 1
        }
      ]
    },
    {
      "cell_type": "markdown",
      "source": [
        "**Python Solution 2**\n",
        "\n",
        "But we know a formula for that:"
      ],
      "metadata": {
        "id": "8Fv5a5QPHJkL"
      }
    },
    {
      "cell_type": "code",
      "source": [
        "def summation(n):\n",
        "    return n * (n + 1) // 2\n",
        "\n",
        "array = [1, 2, 3, 4, 5]\n",
        "summation(5) == sum(array) #expected True\n"
      ],
      "metadata": {
        "colab": {
          "base_uri": "https://localhost:8080/"
        },
        "id": "AawQ0hC9HKnb",
        "outputId": "16a977fb-eee6-4be9-928b-51d7a6274598"
      },
      "execution_count": null,
      "outputs": [
        {
          "output_type": "execute_result",
          "data": {
            "text/plain": [
              "True"
            ]
          },
          "metadata": {},
          "execution_count": 2
        }
      ]
    },
    {
      "cell_type": "markdown",
      "source": [
        "Clearly, solution 2 is better than solution 1 by mean of running time since it's not dependent in the input size"
      ],
      "metadata": {
        "id": "I1DZvvTlUVlk"
      }
    },
    {
      "cell_type": "markdown",
      "source": [
        "# The Big O Notation\n",
        "\n",
        "Big O is a technique to characterize the execution time of an algorithm independently from the machine, the language and the compiler.\n",
        "\n",
        "It's useful for:\n",
        "\n",
        "- evaluating the variations of execution time with regard to the input data\n",
        "\n",
        "- comparing algorithms\n",
        "\n",
        "### Common Functions for Big-O:\n",
        "$n$ --> The size of the input or the data structure involves in the computations \n",
        "\n",
        "- Constant runtime(Time Complexity): $O(1)$\n",
        "- Logarithmic runtime(Time Complexity): $O(\\log (n))$\n",
        "- Linear runtime(Time Complexity): $O(n)$\n",
        "- Quadric runtime(Time Complexity): $O(n^2)$\n",
        "\n",
        "![img](https://drive.google.com/uc?export=view&id=1A0d-8GSvvyn6fOcqUpem-vLdGEkYA0ng)"
      ],
      "metadata": {
        "id": "VyixjJ_V7UDR"
      }
    },
    {
      "cell_type": "markdown",
      "source": [
        "### $O(n)$ - Linear time\n"
      ],
      "metadata": {
        "id": "gCsZIq2c9x90"
      }
    },
    {
      "cell_type": "markdown",
      "source": [
        "Consider the following function which searches in a list linearly. Suppose we have the following unsorted list [1, 5, 3, 9, 2, 4, 6, 7, 8] and we need to find the index of a value in this list using linear search. Usually, when describing the time complexity of an algorithm, we are talking about the **worst-case**. \n",
        "\n",
        "\n",
        "In this case, we are looking for the index of 8, which enforces us to iterate over the whole list."
      ],
      "metadata": {
        "id": "brjP-nKN-UpX"
      }
    },
    {
      "cell_type": "code",
      "source": [
        "def linear_search(data, value):\n",
        "    for index in range(len(data)):\n",
        "        if value == data[index]:\n",
        "            return index\n",
        "    return -1"
      ],
      "metadata": {
        "id": "LTVbrgA-AOVM"
      },
      "execution_count": null,
      "outputs": []
    },
    {
      "cell_type": "code",
      "source": [
        "x = [1, 5, 3, 9, 2, 4, 6, 7, 8]\n",
        "linear_search(x, 19)"
      ],
      "metadata": {
        "colab": {
          "base_uri": "https://localhost:8080/"
        },
        "id": "fEbxgklSc-am",
        "outputId": "ff9d440e-f5a1-4d52-df46-930f45d6304c"
      },
      "execution_count": null,
      "outputs": [
        {
          "output_type": "execute_result",
          "data": {
            "text/plain": [
              "-1"
            ]
          },
          "metadata": {},
          "execution_count": 3
        }
      ]
    },
    {
      "cell_type": "code",
      "source": [
        "### in operator in list\n",
        "5 in x  # O(n)\n",
        "\n",
        "\n",
        "### in opnrator for dictionary\n",
        "d = {}\n",
        "\n",
        "'f' in d   # O(1)"
      ],
      "metadata": {
        "colab": {
          "base_uri": "https://localhost:8080/"
        },
        "id": "-akq6ja0iTZi",
        "outputId": "97bcd3a5-d85f-4d22-b494-16558c96b903"
      },
      "execution_count": null,
      "outputs": [
        {
          "output_type": "execute_result",
          "data": {
            "text/plain": [
              "False"
            ]
          },
          "metadata": {},
          "execution_count": 11
        }
      ]
    },
    {
      "cell_type": "code",
      "source": [
        "### Enumerate\n",
        "for i, element in enumerate(x):\n",
        "  print(i, element)\n",
        "\n",
        "dict(enumerate(x))"
      ],
      "metadata": {
        "colab": {
          "base_uri": "https://localhost:8080/"
        },
        "id": "9kYMHbUfeg8L",
        "outputId": "5cce8492-edeb-4b18-923f-94f0dc832e99"
      },
      "execution_count": null,
      "outputs": [
        {
          "output_type": "stream",
          "name": "stdout",
          "text": [
            "0 1\n",
            "1 5\n",
            "2 3\n",
            "3 9\n",
            "4 2\n",
            "5 4\n",
            "6 6\n",
            "7 7\n",
            "8 8\n"
          ]
        },
        {
          "output_type": "execute_result",
          "data": {
            "text/plain": [
              "{0: 1, 1: 5, 2: 3, 3: 9, 4: 2, 5: 4, 6: 6, 7: 7, 8: 8}"
            ]
          },
          "metadata": {},
          "execution_count": 7
        }
      ]
    },
    {
      "cell_type": "code",
      "source": [],
      "metadata": {
        "id": "yt002o9vejem"
      },
      "execution_count": null,
      "outputs": []
    },
    {
      "cell_type": "markdown",
      "source": [
        "Consider the following function"
      ],
      "metadata": {
        "id": "RG08ErJ8-hWt"
      }
    },
    {
      "cell_type": "code",
      "source": [
        "def dominant(n):\n",
        "  result = 0\n",
        "  for i in range(n):\n",
        "    result += 1\n",
        "  return result"
      ],
      "metadata": {
        "id": "cH9Py03g93pC"
      },
      "execution_count": null,
      "outputs": []
    },
    {
      "cell_type": "markdown",
      "source": [
        "The operation `result += 1` is dominant and will be executed n times. The complexity is described\n",
        "in Big-O notation: in this case O(n) — linear complexity"
      ],
      "metadata": {
        "id": "1RNw6zEq-FhE"
      }
    },
    {
      "cell_type": "markdown",
      "source": [
        "### $O(n^2)$ - Quadratic time\n"
      ],
      "metadata": {
        "id": "hnrJzysUBMDa"
      }
    },
    {
      "cell_type": "code",
      "source": [
        "def pair_print(people):\n",
        "  for p1 in people:\n",
        "    for p2 in people:\n",
        "      if p1 != p2:\n",
        "        print(p1, p2)"
      ],
      "metadata": {
        "id": "6IklrJaOBMMj"
      },
      "execution_count": null,
      "outputs": []
    },
    {
      "cell_type": "code",
      "source": [
        "pair_print(['John', 'Abraham', 'July', 'Kim'])"
      ],
      "metadata": {
        "colab": {
          "base_uri": "https://localhost:8080/"
        },
        "id": "IdwnMaUrBUA_",
        "outputId": "83fe6963-0a7e-47ba-f01e-db66d426a807"
      },
      "execution_count": null,
      "outputs": [
        {
          "output_type": "stream",
          "name": "stdout",
          "text": [
            "John\n",
            "Abraham\n",
            "July\n",
            "Kim\n",
            "Kim John\n",
            "Kim Abraham\n",
            "Kim July\n"
          ]
        }
      ]
    },
    {
      "cell_type": "code",
      "source": [
        "def is_unique(string):\n",
        "  d = {}\n",
        "  for char in string:\n",
        "    if char in d:   # if d is list - O(n), if d id dict O(1)\n",
        "      return False\n",
        "\n",
        "    d[char] = True\n",
        "  \n",
        "  return True\n"
      ],
      "metadata": {
        "id": "PhZEvZigg-Ml"
      },
      "execution_count": null,
      "outputs": []
    },
    {
      "cell_type": "code",
      "source": [
        "5 in x"
      ],
      "metadata": {
        "id": "LQBzXPg1iP5M"
      },
      "execution_count": null,
      "outputs": []
    },
    {
      "cell_type": "markdown",
      "source": [
        "### $O(log_2 n )$ - Logarithmic time"
      ],
      "metadata": {
        "id": "-LbdjWG6C5cJ"
      }
    },
    {
      "cell_type": "code",
      "source": [
        "def binary_search(my_list, x):\n",
        "    low = 0\n",
        "    high = len(my_list) - 1\n",
        "\n",
        "    while low <= high:\n",
        "        mid = (high + low) // 2\n",
        "\n",
        "        if my_list[mid] < x:\n",
        "            low = mid + 1\n",
        "        elif my_list[mid] > x:\n",
        "            high = mid - 1\n",
        "        else:\n",
        "            return mid\n",
        "\n",
        "    return None, mid"
      ],
      "metadata": {
        "id": "58z-h_x2PTtw"
      },
      "execution_count": null,
      "outputs": []
    },
    {
      "cell_type": "code",
      "source": [
        "binary_search([1, 56, 88, 109, 223, 1221], 100)"
      ],
      "metadata": {
        "id": "BI9HnCYjVWIX",
        "colab": {
          "base_uri": "https://localhost:8080/"
        },
        "outputId": "f5e5ab73-6bce-4f32-bb8b-9c86254b8f9c"
      },
      "execution_count": null,
      "outputs": [
        {
          "output_type": "execute_result",
          "data": {
            "text/plain": [
              "(None, 3)"
            ]
          },
          "metadata": {},
          "execution_count": 19
        }
      ]
    },
    {
      "cell_type": "markdown",
      "source": [
        "n    iterations\n",
        "---------\n",
        "2 -> 1\n",
        "4 -> 2\n",
        "8 -> 3\n"
      ],
      "metadata": {
        "id": "zRqm0oTPklzI"
      }
    },
    {
      "cell_type": "code",
      "source": [],
      "metadata": {
        "id": "bD6S42wzkkul"
      },
      "execution_count": null,
      "outputs": []
    },
    {
      "cell_type": "markdown",
      "source": [
        "### The Binary Sort algorithm\n",
        "The problem: sort an array of comparable elements. \n",
        "\n",
        "Given a list of unsorted elements, we created a new list which will store the elements in a sorted way. We iterate over the original list, and use binary search to find the proper location to insert the selected item at each iteration.\n",
        "\n",
        "This algorithms resulting in time complexity of $O(n * log n)$"
      ],
      "metadata": {
        "id": "MNOQuJYfWWpk"
      }
    },
    {
      "cell_type": "code",
      "source": [
        "def binary_sort(elements):\n",
        "  result = [None] * len(elements)\n",
        "  for i in elements:\n",
        "    loc = binary_search(i)\n",
        "    result[loc] = i\n",
        "  return result"
      ],
      "metadata": {
        "id": "U1BLID2NXRB-"
      },
      "execution_count": null,
      "outputs": []
    },
    {
      "cell_type": "markdown",
      "source": [
        "### $O(1)$ - constant time\n",
        "This means that the algorithm requires the same fixed number of steps regardless of the size of the\n",
        "task"
      ],
      "metadata": {
        "id": "EiLGp1D179Dx"
      }
    },
    {
      "cell_type": "code",
      "source": [
        "1 + 1"
      ],
      "metadata": {
        "id": "QeZ5j-VN8BoV"
      },
      "execution_count": null,
      "outputs": []
    },
    {
      "cell_type": "code",
      "source": [
        "x = [1, 2, 3, 4, 5]\n",
        "if x[3] % 2 == 0:\n",
        "  print('The 4\\'th element is even')\n",
        "else:\n",
        "  print('The 4\\'th element is odd')"
      ],
      "metadata": {
        "colab": {
          "base_uri": "https://localhost:8080/"
        },
        "id": "Gei4YFFr8F5X",
        "outputId": "6dc9b94c-3be0-4e8e-bc76-c4df82fd0b78"
      },
      "execution_count": null,
      "outputs": [
        {
          "output_type": "stream",
          "name": "stdout",
          "text": [
            "The 4'th element is even\n"
          ]
        }
      ]
    },
    {
      "cell_type": "code",
      "source": [
        "def constant(n):\n",
        "  result = n * n\n",
        "  return result\n",
        "\n",
        "constant(5)"
      ],
      "metadata": {
        "colab": {
          "base_uri": "https://localhost:8080/"
        },
        "id": "dJPFFHCQ8b6E",
        "outputId": "5e5afc15-2733-4a2c-8bfb-28fd7d6d3538"
      },
      "execution_count": null,
      "outputs": [
        {
          "output_type": "execute_result",
          "data": {
            "text/plain": [
              "25"
            ]
          },
          "metadata": {},
          "execution_count": 3
        }
      ]
    },
    {
      "cell_type": "markdown",
      "source": [
        "Dictionaries (Hash Tables) provide constant-time **O(1)** lookup **on average**, *regardless of the number of items in the table*. The (hopefully rare) worst-case lookup time in most hash table schemes is **O(n)**"
      ],
      "metadata": {
        "id": "gV6Dws4D80bQ"
      }
    },
    {
      "cell_type": "code",
      "source": [
        "student = {\n",
        "    \"ID\": \"1\",\n",
        "    \"Name\": \"Senpai\",\n",
        "    \"Gender\": \"1\",\n",
        "    \"Class\": \"32\",\n",
        "    \"Seat\": \"15\",\n",
        "    \"Club\": \"0\",\n",
        "    \"Persona\": \"1\",\n",
        "    \"Crush\": \"0\",\n",
        "    \"BreastSize\": \"0\",\n",
        "    \"Strength\": \"0\",\n",
        "    \"Hairstyle\": \"1\",\n",
        "    \"Color\": \"Black\",\n",
        "    \"Eyes\": \"Black\",\n",
        "    \"EyeType\": \"Default\",\n",
        "    \"Stockings\": \"None\",\n",
        "    \"Accessory\": \"0\",\n",
        "    \"ScheduleTime\": \"7_7_8_13.01_13.375_15.5_16_17.25_99_99\",\n",
        "    \"ScheduleDestination\": \"Spawn_Locker_Hangout_Seat_LunchSpot_Seat_Clean_Hangout_Locker_Exit\",\n",
        "    \"ScheduleAction\": \"Stand_Stand_Read_Sit_Eat_Sit_Clean_Read_Shoes_Stand\",\n",
        "    \"Info\": \"An average student. \\n \\n Average grades, average looks, average life... \\n \\n I'm not sure what you see in him.\"\n",
        "  }\n",
        "\n",
        "print(student['ScheduleTime'])"
      ],
      "metadata": {
        "colab": {
          "base_uri": "https://localhost:8080/"
        },
        "id": "x7dRWOzv8kvO",
        "outputId": "ecbc5c45-8245-47f8-fdac-03cb19fbc11b"
      },
      "execution_count": null,
      "outputs": [
        {
          "output_type": "stream",
          "name": "stdout",
          "text": [
            "7_7_8_13.01_13.375_15.5_16_17.25_99_99\n"
          ]
        }
      ]
    },
    {
      "cell_type": "markdown",
      "source": [
        "## Big-O Notation Rules: \n",
        "\n",
        "\n",
        "### **Rule 1: Different Steps get added**\n",
        "\n",
        "**Example**\n",
        "\n",
        "```python\n",
        "def doSomething():\n",
        "    doStep(a) #O(a)\n",
        "    doStep(b) #O(b)\n",
        "    \n",
        "    return\n",
        "```\n",
        "\n",
        "So for the above example, the Time Complexity should be: $O(a+b)$\n",
        "\n",
        "### **Rule 2: Drop Constants**\n",
        "\n",
        "**Example**\n",
        "\n",
        "**One**\n",
        "```python\n",
        "def minMax(array):\n",
        "    minimum, maximum = None, None\n",
        "    for i in array:\n",
        "        minimum = min(i, minimum)\n",
        "    for i in array:\n",
        "        maximum = max(i, maximum)\n",
        "    \n",
        "    return minimun, maximum\n",
        "```\n",
        "\n",
        "**Two**\n",
        "```python\n",
        "def minMax(array):\n",
        "    minimum, maximum = None, None\n",
        "    for i in array:\n",
        "        minimum = min(i, minimum)\n",
        "        maximum = max(i, maximum)\n",
        "    \n",
        "    return minimum, maximum\n",
        "```\n",
        "\n",
        "The above TWO functions do the same thing, return the `min` and `max` value from an `array`, but the **One** is first find the `min`, and then find the `max`, so the actual steps is `2n`, while the **Two** is finding the `min`, `max` concurrently, so the actual steps is `n`. \n",
        "\n",
        "You may say the **One** time complexity is `O(2n)` and **Two** time complexity is `O(n)`, the actual answer is both of them time complexity is `O(n)`, because when the `n` approach to `inf`, the constant `2` will be less significant till can be ignored, so this is the **Rule 2: Drop the constant**\n",
        "***\n",
        "\n",
        "### **Rule 3: Drop the non-dominant terms**\n",
        "\n",
        "**Example**\n",
        "\n",
        "```python\n",
        "\n",
        "def IdontKnowWhatIamDoing(array:list):\n",
        "    maximun = None\n",
        "    \n",
        "    # O(n) Time complexity\n",
        "    for i in array:\n",
        "        maximun = max(a, maximum)\n",
        "    print(maximum)\n",
        "    \n",
        "    # O(n^2) Time complexity\n",
        "    for a in array:\n",
        "        for b in array:\n",
        "            print(a, b)\n",
        "```\n",
        "\n",
        "We can see from above function `IdontKnowWhatIamDoing`, the 1st part's time complexity is $O(n)$, and the 2nd parts' time complexity is $O(n^2)$, does it mean the total time complexity is $O(n + n^2)$?\n",
        "\n",
        "Well, let's do some simulation: \n",
        "\n",
        "- if `n = 1`, there's $O(1 + 1^2 = 2)$\n",
        "- if `n = 2`, there's $O(2 + 2^2 = 5)$\n",
        "- if `n = 10`, there's $O(10 + 10^2 = 110)$\n",
        "- if `n = 10,000`, there's $O(10,000 + 10,000^2 = ???)$\n",
        "- if `n = 100,000`, there's $O(100,000 + 100,000^2)$\n",
        "\n",
        "What pattern do you found? when the `n` grows, the $n^2$ have more dominance, and the $n$ part become less significant, in the Big-O Notation, we are not doing the details computation, Big-O notation is the unified way to describe an algroithm's time complexity and space complexity(may discuss next post), so we just need to know the donimant term that impact the run time the most. so here we drop the non-dominant term, the time complexity is: \n",
        "\n",
        "- $O(n^2)$"
      ],
      "metadata": {
        "id": "AwnnIYMTYRAJ"
      }
    },
    {
      "cell_type": "markdown",
      "metadata": {
        "id": "o4nf1JM7Da1W"
      },
      "source": [
        "# An Anagram Example\n",
        "\n",
        "Anagram is a word, phrase, or name formed by rearranging the letters of another word\n",
        "\n",
        "We have a word table here: \n",
        "\n",
        "| Word_1 | Word_2 | \n",
        "| ---- | ---- | \n",
        "| earth | heart | \n",
        "| planet | platen | \n",
        "| space | paces | \n",
        "| star | rats | \n",
        "| cosmic | comics | \n",
        "| nebula | unable | \n",
        "| lunar | ulnar | \n",
        "| solar | orals |\n",
        "| sunspots | unstops | \n",
        "\n",
        "\n",
        "\n",
        "Write a short function to tell whether this two words is Anagram or not, the function should accept two `string`, and return a `bool` value of `True` or `False` to tell whether this two words is Anagram or not."
      ]
    },
    {
      "cell_type": "markdown",
      "metadata": {
        "id": "HVeXsRmRDa1Y"
      },
      "source": [
        "## Solution 1: Checking Off\n",
        "\n",
        "Our first solution to the anagram problem will check the lengths of the strings and then to see that each character in the first string actually occurs in the second. If it is possible to “checkoff” each character, then the two strings must be anagrams. Checking off a character will be accomplished by replacing it with the special Python value `None` However, since strings in Python are immutable, the first step in the process will be to convert the second string to a list. Each character from the first string can be checked against the characters in the list and if found, checked off by replacement. "
      ]
    },
    {
      "cell_type": "code",
      "execution_count": null,
      "metadata": {
        "id": "2BTU75hwDa1a"
      },
      "outputs": [],
      "source": [
        "def isAnagram(string1, string2):\n",
        "    anagram = True\n",
        "    if len(string1) != len(string2):\n",
        "        anagram = False\n",
        "    \n",
        "    stringList = list(string2)\n",
        "    position_1 = 0\n",
        "    \n",
        "    while position_1 < len(string1) and anagram:\n",
        "        position_2 = 0\n",
        "        found = False\n",
        "        while position_2 < len(stringList) and not found:\n",
        "            if string1[position_1] == stringList[position_2]:\n",
        "                found = True\n",
        "            else:\n",
        "                position_2 += 1\n",
        "        \n",
        "        if found:\n",
        "            stringList[position_2] = None\n",
        "        else:\n",
        "            anagram = False\n",
        "        \n",
        "        position_1 += 1\n",
        "        \n",
        "    return anagram"
      ]
    },
    {
      "cell_type": "code",
      "execution_count": null,
      "metadata": {
        "id": "Oay7eOUhDa1b",
        "outputId": "3cedf5dc-a140-40d5-cfc1-babf250009fb"
      },
      "outputs": [
        {
          "name": "stdout",
          "output_type": "stream",
          "text": [
            "True\n",
            "False\n"
          ]
        }
      ],
      "source": [
        "print(isAnagram('earth', 'heart')) # expected: True\n",
        "print(isAnagram('abc', 'abcde')) # expected: False"
      ]
    },
    {
      "cell_type": "markdown",
      "metadata": {
        "id": "rUdiO2HJDa1c"
      },
      "source": [
        "To analyze this algorithm, we need to note that each of the `n` characters in `string1` will cause an iteration through up to `n` characters in the list from `string2`. Each of the `n` position in the list will be visited once to match a character from `string1`. The number of visits then becomes the sum of the integers from `1` to `n`. We stated earlier that this can be written as: \n",
        "\n",
        "$$\\sum_{i=1}^{n}i = \\frac{n(n+1)}{2}$$\n",
        "$$= \\frac{1}{2}n^2 + \\frac{1}{2}n$$\n",
        "\n",
        "As `n` gets large, the $n^2$ term will dominate the `n` term and $\\frac{1}{2}$ can be ignored. Therefore, this solution time complexity is:\n",
        "\n",
        "* $O(n^2)$\n",
        "\n",
        "## Solution 2: Sort and Compare\n",
        "\n",
        "I am not sure did you notice there's one more pattern of Anagram, is actually both words will have the same length, well, we can come up an other solution that convert the `string` into `list`, then use Python's bulit function `sorted()` to sort this two list, and return the compare boolean value: "
      ]
    },
    {
      "cell_type": "code",
      "execution_count": null,
      "metadata": {
        "id": "ukoDOEDaDa1d",
        "outputId": "48ba938d-7f9f-4c24-aea9-6f012d546527",
        "colab": {
          "base_uri": "https://localhost:8080/"
        }
      },
      "outputs": [
        {
          "output_type": "stream",
          "name": "stdout",
          "text": [
            "True\n",
            "False\n",
            "True\n"
          ]
        }
      ],
      "source": [
        "def isAnagram(string1:str, string2:str) -> bool:\n",
        "    return sorted(string1) == sorted(string2)\n",
        "\n",
        "print(isAnagram('earth', 'heart')) # expected: True\n",
        "print(isAnagram('abc', 'abcde')) # expected: False\n",
        "print(isAnagram('cosmic', 'comics')) # expected: True"
      ]
    },
    {
      "cell_type": "markdown",
      "metadata": {
        "id": "kCQkZrUxDa1h"
      },
      "source": [
        "In Python, sorting is typically $O(n \\log n)$, so the sorting operations dominate the process. In the end, this algorithm will have a magnitude of: \n",
        "\n",
        "- $O(n \\log n)$"
      ]
    },
    {
      "cell_type": "markdown",
      "metadata": {
        "id": "HIrNS5nRDa1o"
      },
      "source": [
        "# Some Exercise Again?\n",
        "\n",
        "- Given the following code fragment, what is its Big-O running time?\n",
        "```python\n",
        "test = 0\n",
        "for i in range(n):\n",
        "    for j in range(n):\n",
        "        test = test + i * j\n",
        "```\n",
        "\n",
        "- Given the following code fragment, what is its Big-O running time?\n",
        "```python\n",
        "test = 0\n",
        "for i in range(n):\n",
        "    test += 1\n",
        "for j in range(n):\n",
        "    test -= 1\n",
        "```\n",
        "\n",
        "- Given the following code fragment, what is its Big-O running time?\n",
        "```python\n",
        "i = n\n",
        "while i > 0:\n",
        "    k = 2 + 2\n",
        "    i = i // 2\n",
        "```"
      ]
    },
    {
      "cell_type": "markdown",
      "source": [
        "# Hash Tables\n",
        "\n",
        "Inspired by https://github.com/eleweek/inside_python_dict\n",
        "\n",
        "![hash](https://drive.google.com/uc?export=view&id=1wl5bIMeXwRMStPL9TRIxkMWAak6mFL9D)"
      ],
      "metadata": {
        "id": "HMLEwXuMYWwK"
      }
    },
    {
      "cell_type": "markdown",
      "source": [
        "To start with, let's say we have a simple list of distinct integers. Python lists are actually arrays — contiguous chunks of memory"
      ],
      "metadata": {
        "id": "i25rG73PYxB2"
      }
    },
    {
      "cell_type": "code",
      "source": [
        "x = [1, 56, 50, 2, 44, 25, 17, 4]\n",
        "len(x)"
      ],
      "metadata": {
        "id": "Ic0iuHTpboP1",
        "colab": {
          "base_uri": "https://localhost:8080/"
        },
        "outputId": "a327f7cf-c732-4dd5-e7a1-7b0b8034e673"
      },
      "execution_count": null,
      "outputs": [
        {
          "output_type": "execute_result",
          "data": {
            "text/plain": [
              "8"
            ]
          },
          "metadata": {},
          "execution_count": 20
        }
      ]
    },
    {
      "cell_type": "markdown",
      "source": [
        "To check if an element is present in a list, we can use the in operator like this: number in simple_list, which returns either True or False. Under the hood this short snippet does a linear scan. This can be a lot of work"
      ],
      "metadata": {
        "id": "pMASHE1Yb3At"
      }
    },
    {
      "cell_type": "code",
      "source": [
        "%timeit (4 in x)"
      ],
      "metadata": {
        "colab": {
          "base_uri": "https://localhost:8080/"
        },
        "id": "RKuTQ5Wxbrcz",
        "outputId": "ef987790-c28b-44c1-a1e8-8a32936e4cff"
      },
      "execution_count": null,
      "outputs": [
        {
          "output_type": "stream",
          "name": "stdout",
          "text": [
            "The slowest run took 17.75 times longer than the fastest. This could mean that an intermediate result is being cached.\n",
            "10000000 loops, best of 5: 93.4 ns per loop\n"
          ]
        }
      ]
    },
    {
      "cell_type": "code",
      "source": [
        "def linear_search(l, element):\n",
        "  for i in range(len(l)):\n",
        "    if l[i] == element:\n",
        "      return True\n",
        "  return False\n",
        "\n",
        "%timeit linear_search(x, 4)"
      ],
      "metadata": {
        "colab": {
          "base_uri": "https://localhost:8080/"
        },
        "id": "kI7IJ9Enb_U-",
        "outputId": "ed751e07-9fde-46c1-8aea-d72e8ff1611c"
      },
      "execution_count": null,
      "outputs": [
        {
          "output_type": "stream",
          "name": "stdout",
          "text": [
            "The slowest run took 6.72 times longer than the fastest. This could mean that an intermediate result is being cached.\n",
            "1000000 loops, best of 5: 646 ns per loop\n"
          ]
        }
      ]
    },
    {
      "cell_type": "markdown",
      "source": [
        "A Python dict is a collection of key-value pairs. Keys need to be organized in such a way that efficient searching, inserting and deleting is possible. Under the hood, Python dict implementation is basically a scan of a list (but a pretty weird scan)\n",
        "\n",
        "Let's begin by creating a new list of **slots**. Each slot will either hold an element (a number) or be empty (empty slots will hold None). **We'll use the number itself to compute an index of a slot**. The simplest way to do this is to take the remainder of number divided by len(the_list): `number % len(the_list)` and put our number in slot with this index. To check if the number is there we could compute the slot index again and see if it is empty."
      ],
      "metadata": {
        "id": "kF6zMKJ9ciS_"
      }
    },
    {
      "cell_type": "code",
      "source": [
        "x = [None] * 10\n",
        "x"
      ],
      "metadata": {
        "id": "FNAgVBAKdg7U",
        "colab": {
          "base_uri": "https://localhost:8080/"
        },
        "outputId": "3bb4b80f-2d0a-4ed9-a978-dfa5c8906879"
      },
      "execution_count": null,
      "outputs": [
        {
          "output_type": "execute_result",
          "data": {
            "text/plain": [
              "[None, None, None, None, None, None, None, None, None, None]"
            ]
          },
          "metadata": {},
          "execution_count": 22
        }
      ]
    },
    {
      "cell_type": "code",
      "source": [
        "def add(element):\n",
        "  index = element % len(x)\n",
        "  x[index] = element\n",
        "\n",
        "def search(element):\n",
        "  index = element % len(x)\n",
        "  if x[index] is not None:\n",
        "    return index\n",
        "\n",
        "def remove(element):\n",
        "  index = element % len(x)\n",
        "  if x[index] == element:\n",
        "    x[index] = None\n"
      ],
      "metadata": {
        "id": "WY3tPkcCdiot"
      },
      "execution_count": null,
      "outputs": []
    },
    {
      "cell_type": "code",
      "source": [
        "add(14)\n",
        "x"
      ],
      "metadata": {
        "colab": {
          "base_uri": "https://localhost:8080/"
        },
        "id": "4qBClznNzaUh",
        "outputId": "65a98c4b-b0ea-498b-b8b7-8f0af54d1de5"
      },
      "execution_count": null,
      "outputs": [
        {
          "output_type": "execute_result",
          "data": {
            "text/plain": [
              "[None, None, 12, None, 14, 145634645, None, None, None, None]"
            ]
          },
          "metadata": {},
          "execution_count": 33
        }
      ]
    },
    {
      "cell_type": "markdown",
      "source": [
        "Would this approach work, however? Not entirely. For example, 1004 will get the same slot index (3) as 4, and it will be overwritten. Situations like these are called *collisions*.\n",
        "\n",
        "There are some solutions for the collision problem as *linear probing*, *separate chaining* or *table resizing*"
      ],
      "metadata": {
        "id": "OK8DGkn1etEb"
      }
    },
    {
      "cell_type": "markdown",
      "source": [
        "Now that we have the solution for searching in a list of numbers, can we use it for non-integer objects? We can if we find a way to turn objects into numbers for indexing.\n",
        "\n",
        "The transformation also needs to be completely deterministic, i.e. we need to always get the same value for the same object. In other words, something like `random()` would not work, because we would \"forget\" where we placed our objects and we wouldn't be able to locate them during a search.\n",
        "\n",
        "Functions that do this kind of transformation are called hash functions. Since it is not required to preserve any order in the input domain, a typical hash function \"mixes up\" its input domain, hence the name \"hash\".\n",
        "\n",
        "In Python, there are built-in implementations of hash functions for many built-in types. They are all available through a single interface: the function `hash()`. This function can take any Python object as an input and call an appropriate implementation (if it exists)."
      ],
      "metadata": {
        "id": "2LbhjBxxfgFp"
      }
    },
    {
      "cell_type": "code",
      "source": [
        "print(hash(1))\n",
        "\n",
        "print(hash('123456'))\n",
        "\n",
        "print(hash((1, 2, 3)))\n",
        "\n",
        "print(hash(12.3))\n",
        "\n",
        "print(hash(None))"
      ],
      "metadata": {
        "colab": {
          "base_uri": "https://localhost:8080/"
        },
        "id": "mf_F4uKDgGde",
        "outputId": "e0a4d9f2-f395-491d-e63f-cf9f5e9df668"
      },
      "execution_count": null,
      "outputs": [
        {
          "output_type": "stream",
          "name": "stdout",
          "text": [
            "1\n",
            "-2791703530084516984\n",
            "2528502973977326415\n",
            "691752902764109836\n",
            "5876825161692\n"
          ]
        }
      ]
    },
    {
      "cell_type": "code",
      "source": [
        "# unhashable types\n",
        "\n",
        "hash([1, 2, 3])"
      ],
      "metadata": {
        "colab": {
          "base_uri": "https://localhost:8080/",
          "height": 211
        },
        "id": "lHi6Ewx1gV4s",
        "outputId": "435b2e41-1dba-483b-fab2-6672646c67d3"
      },
      "execution_count": null,
      "outputs": [
        {
          "output_type": "error",
          "ename": "TypeError",
          "evalue": "ignored",
          "traceback": [
            "\u001b[0;31m---------------------------------------------------------------------------\u001b[0m",
            "\u001b[0;31mTypeError\u001b[0m                                 Traceback (most recent call last)",
            "\u001b[0;32m<ipython-input-33-51d4130cf5ff>\u001b[0m in \u001b[0;36m<module>\u001b[0;34m()\u001b[0m\n\u001b[1;32m      1\u001b[0m \u001b[0;31m# unhashable types\u001b[0m\u001b[0;34m\u001b[0m\u001b[0;34m\u001b[0m\u001b[0;34m\u001b[0m\u001b[0m\n\u001b[1;32m      2\u001b[0m \u001b[0;34m\u001b[0m\u001b[0m\n\u001b[0;32m----> 3\u001b[0;31m \u001b[0mhash\u001b[0m\u001b[0;34m(\u001b[0m\u001b[0;34m[\u001b[0m\u001b[0;36m1\u001b[0m\u001b[0;34m,\u001b[0m \u001b[0;36m2\u001b[0m\u001b[0;34m,\u001b[0m \u001b[0;36m3\u001b[0m\u001b[0;34m]\u001b[0m\u001b[0;34m)\u001b[0m\u001b[0;34m\u001b[0m\u001b[0;34m\u001b[0m\u001b[0m\n\u001b[0m",
            "\u001b[0;31mTypeError\u001b[0m: unhashable type: 'list'"
          ]
        }
      ]
    }
  ]
}