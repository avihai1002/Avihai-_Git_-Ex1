{
  "nbformat": 4,
  "nbformat_minor": 0,
  "metadata": {
    "colab": {
      "provenance": [],
      "include_colab_link": true
    },
    "kernelspec": {
      "name": "python3",
      "display_name": "Python 3"
    },
    "language_info": {
      "name": "python"
    }
  },
  "cells": [
    {
      "cell_type": "markdown",
      "metadata": {
        "id": "view-in-github",
        "colab_type": "text"
      },
      "source": [
        "<a href=\"https://colab.research.google.com/github/avihai1002/Avihai-_Git_-Ex1/blob/main/Methods_and_Functions.ipynb\" target=\"_parent\"><img src=\"https://colab.research.google.com/assets/colab-badge.svg\" alt=\"Open In Colab\"/></a>"
      ]
    },
    {
      "cell_type": "markdown",
      "metadata": {
        "id": "cmtdYf5OFZ_z"
      },
      "source": [
        "# Methods\n",
        "\n"
      ]
    },
    {
      "cell_type": "markdown",
      "source": [
        "We've already seen a few example of methods when learning about Object and Data Structure Types in Python. Methods are essentially functions built into objects. Later on in the course we will learn about how to create our own objects and methods using Object Oriented Programming (OOP) and classes.\n",
        "\n",
        "Methods perform specific actions on an object and can also take arguments, just like a function. This lecture will serve as just a brief introduction to methods and get you thinking about overall design methods that we will touch back upon when we reach OOP in the course.\n",
        "\n",
        "Methods are in the form:\n",
        "\n",
        "    object.method(arg1,arg2,etc...)\n",
        "    \n",
        "You'll later see that we can think of methods as having an argument 'self' referring to the object itself. You can't see this argument but we will be using it later on in the course during the OOP lectures.\n",
        "\n",
        "Let's take a quick look at what an example of the various methods a list has:"
      ],
      "metadata": {
        "id": "lvjqtiqmGCkI"
      }
    },
    {
      "cell_type": "code",
      "execution_count": null,
      "metadata": {
        "collapsed": true,
        "id": "jgK73ltyFZ_1"
      },
      "outputs": [],
      "source": [
        "# Create a simple list\n",
        "lst = [1,2,3,4,5]"
      ]
    },
    {
      "cell_type": "markdown",
      "metadata": {
        "id": "IQ9ewuVrFZ_3"
      },
      "source": [
        "Fortunately, with iPython and the Jupyter Notebook we can quickly see all the possible methods using the tab key. The methods for a list are:\n",
        "\n",
        "* append\n",
        "* count\n",
        "* extend\n",
        "* insert\n",
        "* pop\n",
        "* remove\n",
        "* reverse\n",
        "* sort\n",
        "\n",
        "Let's try out a few of them:"
      ]
    },
    {
      "cell_type": "markdown",
      "metadata": {
        "id": "Lk9u9xC7FZ_5"
      },
      "source": [
        "append() allows us to add elements to the end of a list:"
      ]
    },
    {
      "cell_type": "code",
      "execution_count": null,
      "metadata": {
        "collapsed": true,
        "id": "j_TN92TRFZ_6"
      },
      "outputs": [],
      "source": [
        "lst.append(6)"
      ]
    },
    {
      "cell_type": "code",
      "execution_count": null,
      "metadata": {
        "id": "8AFOBQkiFZ_8",
        "outputId": "d9d73221-d252-47a6-deb1-d55d0c9fe77b"
      },
      "outputs": [
        {
          "data": {
            "text/plain": [
              "[1, 2, 3, 4, 5, 6]"
            ]
          },
          "execution_count": 3,
          "metadata": {},
          "output_type": "execute_result"
        }
      ],
      "source": [
        "lst"
      ]
    },
    {
      "cell_type": "markdown",
      "metadata": {
        "id": "nDJcbItdFZ_9"
      },
      "source": [
        "Great! Now how about count()? The count() method will count the number of occurrences of an element in a list."
      ]
    },
    {
      "cell_type": "code",
      "execution_count": null,
      "metadata": {
        "id": "B9GIIn3mFZ__",
        "outputId": "bb6393c7-aa88-41ac-c00d-50185fbf7976"
      },
      "outputs": [
        {
          "data": {
            "text/plain": [
              "1"
            ]
          },
          "execution_count": 4,
          "metadata": {},
          "output_type": "execute_result"
        }
      ],
      "source": [
        "# Check how many times 2 shows up in the list\n",
        "lst.count(2)"
      ]
    },
    {
      "cell_type": "markdown",
      "metadata": {
        "id": "xZJKqb98FaAB"
      },
      "source": [
        "You can always use Shift+Tab in the Jupyter Notebook to get more help about the method. In general Python you can use the help() function: "
      ]
    },
    {
      "cell_type": "code",
      "execution_count": null,
      "metadata": {
        "id": "FaJDUPGwFaAC",
        "outputId": "f4e9659e-9514-4589-b9d0-0ecca9321f83"
      },
      "outputs": [
        {
          "name": "stdout",
          "output_type": "stream",
          "text": [
            "Help on built-in function count:\n",
            "\n",
            "count(...) method of builtins.list instance\n",
            "    L.count(value) -> integer -- return number of occurrences of value\n",
            "\n"
          ]
        }
      ],
      "source": [
        "help(lst.count)"
      ]
    },
    {
      "cell_type": "markdown",
      "source": [],
      "metadata": {
        "id": "XSGU_8f2GZ-H"
      }
    },
    {
      "cell_type": "markdown",
      "metadata": {
        "id": "DEGnNgKAGSMV"
      },
      "source": [
        "# Functions\n",
        "\n"
      ]
    },
    {
      "cell_type": "markdown",
      "source": [
        "## Introduction to Functions\n",
        "\n",
        "This lecture will consist of explaining what a function is in Python and how to create one. Functions will be one of our main building blocks when we construct larger and larger amounts of code to solve problems.\n",
        "\n",
        "### What is a function?\n",
        "\n",
        "Formally, a function is a useful device that groups together a set of statements so they can be run more than once. They can also let us specify parameters that can serve as inputs to the functions.\n",
        "\n",
        "On a more fundamental level, functions allow us to not have to repeatedly write the same code again and again. If you remember back to the lessons on strings and lists, remember that we used a function len() to get the length of a string. Since checking the length of a sequence is a common task you would want to write a function that can do this repeatedly at command.\n",
        "\n",
        "Functions will be one of most basic levels of reusing code in Python, and it will also allow us to start thinking of program design (we will dive much deeper into the ideas of design when we learn about Object Oriented Programming)."
      ],
      "metadata": {
        "id": "8o5tp7KwGgI-"
      }
    },
    {
      "cell_type": "markdown",
      "metadata": {
        "id": "HZizFz_DGSMY"
      },
      "source": [
        "### Why even use functions?\n",
        "\n",
        "Put simply, you should use functions when you plan on using a block of code multiple times. The function will allow you to call the same block of code without having to write it multiple times. This in turn will allow you to create more complex Python scripts. To really understand this though, we should actually write our own functions! "
      ]
    },
    {
      "cell_type": "markdown",
      "metadata": {
        "id": "y_JE9Ap3GSMa"
      },
      "source": [
        "## Function Topics\n",
        "* def keyword\n",
        "* simple example of a function\n",
        "* calling a function with ()\n",
        "* accepting parameters\n",
        "* print versus return\n",
        "* adding in logic inside a function\n",
        "* multiple returns inside a function\n",
        "* adding in loops inside a function\n",
        "* tuple unpacking\n",
        "* interactions between functions"
      ]
    },
    {
      "cell_type": "markdown",
      "metadata": {
        "id": "Th_LU-czGSMc"
      },
      "source": [
        "### def keyword\n",
        "\n",
        "Let's see how to build out a function's syntax in Python. It has the following form:"
      ]
    },
    {
      "cell_type": "code",
      "execution_count": null,
      "metadata": {
        "collapsed": true,
        "id": "4pZ7yxz6GSMd"
      },
      "outputs": [],
      "source": [
        "def name_of_function(arg1,arg2):\n",
        "    '''\n",
        "    This is where the function's Document String (docstring) goes.\n",
        "    When you call help() on your function it will be printed out.\n",
        "    '''\n",
        "    # Do stuff here\n",
        "    # Return desired result"
      ]
    },
    {
      "cell_type": "markdown",
      "metadata": {
        "id": "nU2gCb28GSMe"
      },
      "source": [
        "We begin with <code>def</code> then a space followed by the name of the function. Try to keep names relevant, for example len() is a good name for a length() function. Also be careful with names, you wouldn't want to call a function the same name as a [built-in function in Python](https://docs.python.org/3/library/functions.html) (such as len).\n",
        "\n",
        "Next come a pair of parentheses with a number of arguments separated by a comma. These arguments are the inputs for your function. You'll be able to use these inputs in your function and reference them. After this you put a colon.\n",
        "\n",
        "Now here is the important step, you must indent to begin the code inside your function correctly. Python makes use of *whitespace* to organize code. Lots of other programing languages do not do this, so keep that in mind.\n",
        "\n",
        "Next you'll see the docstring, this is where you write a basic description of the function. Using Jupyter and Jupyter Notebooks, you'll be able to read these docstrings by pressing Shift+Tab after a function name. Docstrings are not necessary for simple functions, but it's good practice to put them in so you or other people can easily understand the code you write.\n",
        "\n",
        "After all this you begin writing the code you wish to execute.\n",
        "\n",
        "The best way to learn functions is by going through examples. So let's try to go through examples that relate back to the various objects and data structures we learned about before."
      ]
    },
    {
      "cell_type": "markdown",
      "metadata": {
        "id": "Um4qVJPcGSMg"
      },
      "source": [
        "### Simple example of a function"
      ]
    },
    {
      "cell_type": "code",
      "execution_count": null,
      "metadata": {
        "collapsed": true,
        "id": "D_V6s0wzGSMh"
      },
      "outputs": [],
      "source": [
        "def say_hello():\n",
        "    print('hello')"
      ]
    },
    {
      "cell_type": "code",
      "source": [
        "x = say_hello()\n",
        "x"
      ],
      "metadata": {
        "colab": {
          "base_uri": "https://localhost:8080/"
        },
        "id": "4GgRk6dpLNf_",
        "outputId": "06825d72-a990-411a-b2f3-62db29be04f2"
      },
      "execution_count": null,
      "outputs": [
        {
          "output_type": "stream",
          "name": "stdout",
          "text": [
            "hello\n"
          ]
        }
      ]
    },
    {
      "cell_type": "code",
      "source": [
        "l = []\n",
        "l.append(2)\n",
        "l1 = l\n",
        "print(l)"
      ],
      "metadata": {
        "colab": {
          "base_uri": "https://localhost:8080/"
        },
        "id": "ei_hQzEALxUT",
        "outputId": "393569c2-12f8-4dc1-f312-ba32f07774f2"
      },
      "execution_count": null,
      "outputs": [
        {
          "output_type": "stream",
          "name": "stdout",
          "text": [
            "None\n"
          ]
        }
      ]
    },
    {
      "cell_type": "markdown",
      "metadata": {
        "id": "vfyLiahpGSMi"
      },
      "source": [
        "### Calling a function with ()"
      ]
    },
    {
      "cell_type": "markdown",
      "metadata": {
        "id": "j2QBIqWWGSMj"
      },
      "source": [
        "Call the function:"
      ]
    },
    {
      "cell_type": "code",
      "execution_count": null,
      "metadata": {
        "id": "hJogJlbJGSMk",
        "outputId": "a90ced27-450b-477e-98b7-db13e10ecdec"
      },
      "outputs": [
        {
          "name": "stdout",
          "output_type": "stream",
          "text": [
            "hello\n"
          ]
        }
      ],
      "source": [
        "say_hello()"
      ]
    },
    {
      "cell_type": "markdown",
      "metadata": {
        "id": "7kM18_zbGSMl"
      },
      "source": [
        "If you forget the parenthesis (), it will simply display the fact that say_hello is a function. Later on we will learn we can actually pass in functions into other functions! But for now, simply remember to call functions with ()."
      ]
    },
    {
      "cell_type": "code",
      "execution_count": null,
      "metadata": {
        "id": "F_-RZX8KGSMl",
        "outputId": "910c75ee-6f3b-48fd-cf53-8d11f2cbd840"
      },
      "outputs": [
        {
          "data": {
            "text/plain": [
              "<function __main__.say_hello>"
            ]
          },
          "execution_count": 7,
          "metadata": {},
          "output_type": "execute_result"
        }
      ],
      "source": [
        "say_hello"
      ]
    },
    {
      "cell_type": "markdown",
      "metadata": {
        "id": "BVPs2YhUGSMm"
      },
      "source": [
        "### Accepting parameters (arguments)\n",
        "Let's write a function that greets people with their name."
      ]
    },
    {
      "cell_type": "code",
      "execution_count": null,
      "metadata": {
        "collapsed": true,
        "id": "c7i69WiVGSMn"
      },
      "outputs": [],
      "source": [
        "def greeting(name):\n",
        "    print(f'Hello {name}')"
      ]
    },
    {
      "cell_type": "code",
      "execution_count": null,
      "metadata": {
        "id": "ZBPvx2yZGSMo",
        "outputId": "5889ec99-505b-489e-9459-0591e63399d4"
      },
      "outputs": [
        {
          "name": "stdout",
          "output_type": "stream",
          "text": [
            "Hello Jose\n"
          ]
        }
      ],
      "source": [
        "greeting('Jose')"
      ]
    },
    {
      "cell_type": "markdown",
      "metadata": {
        "id": "1wXJFrIvGSMp"
      },
      "source": [
        "## Using return\n",
        "So far we've only seen print() used, but if we actually want to save the resulting variable we need to use the **return** keyword.\n",
        "\n",
        "Let's see some example that use a <code>return</code> statement. <code>return</code> allows a function to *return* a result that can then be stored as a variable, or used in whatever manner a user wants.\n",
        "\n",
        "### Example: Addition function"
      ]
    },
    {
      "cell_type": "code",
      "execution_count": null,
      "metadata": {
        "collapsed": true,
        "id": "QzzS8KyaGSMp"
      },
      "outputs": [],
      "source": [
        "def add_num(user_type,num2):\n",
        "  if user_type != 'sysAdmin':\n",
        "    return\n",
        "\n",
        "  ...\n",
        "  ...\n",
        "  ..."
      ]
    },
    {
      "cell_type": "code",
      "execution_count": null,
      "metadata": {
        "id": "Ek_-l0LEGSMq",
        "outputId": "973755d6-085c-4072-ba5b-202337db99dd"
      },
      "outputs": [
        {
          "data": {
            "text/plain": [
              "9"
            ]
          },
          "execution_count": 7,
          "metadata": {},
          "output_type": "execute_result"
        }
      ],
      "source": [
        "add_num(4,5)"
      ]
    },
    {
      "cell_type": "code",
      "execution_count": null,
      "metadata": {
        "collapsed": true,
        "id": "zSkqOz2wGSMq"
      },
      "outputs": [],
      "source": [
        "# Can also save as variable due to return\n",
        "result = add_num(4,5)"
      ]
    },
    {
      "cell_type": "code",
      "execution_count": null,
      "metadata": {
        "id": "Vq3rnah_GSMr",
        "outputId": "be9cd4b2-87ba-434a-e972-32981a2d3e48"
      },
      "outputs": [
        {
          "name": "stdout",
          "output_type": "stream",
          "text": [
            "9\n"
          ]
        }
      ],
      "source": [
        "print(result)"
      ]
    },
    {
      "cell_type": "markdown",
      "metadata": {
        "id": "6CJHn2hgGSMr"
      },
      "source": [
        "What happens if we input two strings?"
      ]
    },
    {
      "cell_type": "code",
      "execution_count": null,
      "metadata": {
        "id": "rHOMZvcSGSMs",
        "outputId": "f93fc563-5f43-4765-d48d-d3a855523b8e"
      },
      "outputs": [
        {
          "data": {
            "text/plain": [
              "'onetwo'"
            ]
          },
          "execution_count": 10,
          "metadata": {},
          "output_type": "execute_result"
        }
      ],
      "source": [
        "add_num('one','two')"
      ]
    },
    {
      "cell_type": "markdown",
      "metadata": {
        "id": "YZKy9ZHAGSMs"
      },
      "source": [
        "## Very Common Question: \"What is the difference between *return* and *print*?\"\n",
        "\n",
        "**The return keyword allows you to actually save the result of the output of a function as a variable. The print() function simply displays the output to you, but doesn't save it for future use. Let's explore this in more detail**"
      ]
    },
    {
      "cell_type": "code",
      "execution_count": null,
      "metadata": {
        "collapsed": true,
        "id": "ayxnsj9OGSMt"
      },
      "outputs": [],
      "source": [
        "def print_result(a,b):\n",
        "    print(a+b)"
      ]
    },
    {
      "cell_type": "code",
      "execution_count": null,
      "metadata": {
        "collapsed": true,
        "id": "jblV2WzZGSMt"
      },
      "outputs": [],
      "source": [
        "def return_result(a,b):\n",
        "    return a+b"
      ]
    },
    {
      "cell_type": "code",
      "execution_count": null,
      "metadata": {
        "id": "PCtU17ukGSMv",
        "outputId": "5a609070-67d0-437c-c058-c3048d930b40"
      },
      "outputs": [
        {
          "name": "stdout",
          "output_type": "stream",
          "text": [
            "15\n"
          ]
        }
      ],
      "source": [
        "print_result(10,5)"
      ]
    },
    {
      "cell_type": "code",
      "execution_count": null,
      "metadata": {
        "id": "oqdaj7wHGSMv",
        "outputId": "55fd4f6e-7967-4e94-d3e6-42a980af6b98"
      },
      "outputs": [
        {
          "data": {
            "text/plain": [
              "15"
            ]
          },
          "execution_count": 4,
          "metadata": {},
          "output_type": "execute_result"
        }
      ],
      "source": [
        "# You won't see any output if you run this in a .py script\n",
        "return_result(10,5)"
      ]
    },
    {
      "cell_type": "markdown",
      "metadata": {
        "id": "SHUXbNwTGSMw"
      },
      "source": [
        "**But what happens if we actually want to save this result for later use?**"
      ]
    },
    {
      "cell_type": "code",
      "execution_count": null,
      "metadata": {
        "id": "0iKyJ6zEGSMw",
        "outputId": "c375f5ff-33ef-47a5-9d49-7d02c7b1af76"
      },
      "outputs": [
        {
          "name": "stdout",
          "output_type": "stream",
          "text": [
            "40\n"
          ]
        }
      ],
      "source": [
        "my_result = print_result(20,20)"
      ]
    },
    {
      "cell_type": "code",
      "execution_count": null,
      "metadata": {
        "collapsed": true,
        "id": "ScgmrNG-GSMw"
      },
      "outputs": [],
      "source": [
        "my_result"
      ]
    },
    {
      "cell_type": "code",
      "execution_count": null,
      "metadata": {
        "id": "gs96KxcmGSMw",
        "outputId": "843cbbe4-af29-4772-c1f3-ad70bc8b1677"
      },
      "outputs": [
        {
          "data": {
            "text/plain": [
              "NoneType"
            ]
          },
          "execution_count": 7,
          "metadata": {},
          "output_type": "execute_result"
        }
      ],
      "source": [
        "type(my_result)"
      ]
    },
    {
      "cell_type": "markdown",
      "metadata": {
        "id": "aBxIEEViGSMx"
      },
      "source": [
        "**Be careful! Notice how print_result() doesn't let you actually save the result to a variable! It only prints it out, with print() returning None for the assignment!**"
      ]
    },
    {
      "cell_type": "code",
      "execution_count": null,
      "metadata": {
        "collapsed": true,
        "id": "oWdFUxdhGSMy"
      },
      "outputs": [],
      "source": [
        "my_result = return_result(20,20)"
      ]
    },
    {
      "cell_type": "code",
      "execution_count": null,
      "metadata": {
        "id": "gcLkgQr6GSMy",
        "outputId": "35735f15-323b-4835-f9d2-46de13821bd5"
      },
      "outputs": [
        {
          "data": {
            "text/plain": [
              "40"
            ]
          },
          "execution_count": 9,
          "metadata": {},
          "output_type": "execute_result"
        }
      ],
      "source": [
        "my_result"
      ]
    },
    {
      "cell_type": "code",
      "execution_count": null,
      "metadata": {
        "id": "SPCrO805GSM0",
        "outputId": "aa2111f3-875c-4972-95ec-b8cfb6fa602d"
      },
      "outputs": [
        {
          "data": {
            "text/plain": [
              "80"
            ]
          },
          "execution_count": 10,
          "metadata": {},
          "output_type": "execute_result"
        }
      ],
      "source": [
        "my_result + my_result"
      ]
    },
    {
      "cell_type": "markdown",
      "metadata": {
        "id": "soJGvgX8GSM1"
      },
      "source": [
        "# Adding Logic to Internal Function Operations\n",
        "\n",
        "So far we know quite a bit about constructing logical statements with Python, such as if/else/elif statements, for and while loops, checking if an item is **in** a list or **not in** a list (Useful Operators Lecture). Let's now see how we can perform these operations within a function."
      ]
    },
    {
      "cell_type": "markdown",
      "metadata": {
        "id": "296Z-5xFGSM1"
      },
      "source": [
        "### Check if a number is even "
      ]
    },
    {
      "cell_type": "markdown",
      "metadata": {
        "id": "5dKHGbEJGSM1"
      },
      "source": [
        "**Recall the mod operator % which returns the remainder after division, if a number is even then mod 2 (% 2) should be == to zero.**"
      ]
    },
    {
      "cell_type": "code",
      "execution_count": null,
      "metadata": {
        "id": "G_HvFCQ1GSM2",
        "outputId": "fc95bce5-774a-482b-b15b-b7305d608808"
      },
      "outputs": [
        {
          "data": {
            "text/plain": [
              "0"
            ]
          },
          "execution_count": 11,
          "metadata": {},
          "output_type": "execute_result"
        }
      ],
      "source": [
        "2 % 2"
      ]
    },
    {
      "cell_type": "code",
      "execution_count": null,
      "metadata": {
        "id": "xHUjeuAZGSM2",
        "outputId": "058e00a7-e180-4456-edbe-6c03b7c714b8"
      },
      "outputs": [
        {
          "data": {
            "text/plain": [
              "0"
            ]
          },
          "execution_count": 12,
          "metadata": {},
          "output_type": "execute_result"
        }
      ],
      "source": [
        "20 % 2"
      ]
    },
    {
      "cell_type": "code",
      "execution_count": null,
      "metadata": {
        "id": "DDyu-PnLGSM3",
        "outputId": "eddf955f-094e-4eb9-de29-798f5ae5316a"
      },
      "outputs": [
        {
          "data": {
            "text/plain": [
              "1"
            ]
          },
          "execution_count": 14,
          "metadata": {},
          "output_type": "execute_result"
        }
      ],
      "source": [
        "21 % 2"
      ]
    },
    {
      "cell_type": "code",
      "execution_count": null,
      "metadata": {
        "id": "pzkncO8FGSM3",
        "outputId": "01a36812-50dc-47b3-82e7-12b02fc23b1b"
      },
      "outputs": [
        {
          "data": {
            "text/plain": [
              "True"
            ]
          },
          "execution_count": 15,
          "metadata": {},
          "output_type": "execute_result"
        }
      ],
      "source": [
        "20 % 2 == 0"
      ]
    },
    {
      "cell_type": "code",
      "execution_count": null,
      "metadata": {
        "id": "C2UDidV6GSM4",
        "outputId": "d38fe3d3-99c2-44c6-a161-3f22ea29bff5"
      },
      "outputs": [
        {
          "data": {
            "text/plain": [
              "False"
            ]
          },
          "execution_count": 16,
          "metadata": {},
          "output_type": "execute_result"
        }
      ],
      "source": [
        "21 % 2 == 0"
      ]
    },
    {
      "cell_type": "markdown",
      "metadata": {
        "id": "gNC9zHr0GSM4"
      },
      "source": [
        "** Let's use this to construct a function. Notice how we simply return the boolean check.**"
      ]
    },
    {
      "cell_type": "code",
      "execution_count": null,
      "metadata": {
        "collapsed": true,
        "id": "jWvk1g8yGSM5"
      },
      "outputs": [],
      "source": [
        "def even_check(number):\n",
        "    return number % 2 == 0"
      ]
    },
    {
      "cell_type": "code",
      "execution_count": null,
      "metadata": {
        "id": "9P0vlnofGSM5",
        "outputId": "0fbd491c-fc6f-478b-ef10-0472aa5b1280"
      },
      "outputs": [
        {
          "data": {
            "text/plain": [
              "True"
            ]
          },
          "execution_count": 19,
          "metadata": {},
          "output_type": "execute_result"
        }
      ],
      "source": [
        "even_check(20)"
      ]
    },
    {
      "cell_type": "code",
      "execution_count": null,
      "metadata": {
        "id": "31O_6JObGSM5",
        "outputId": "1f416f32-eece-47f0-eaed-a2e215dbd41a"
      },
      "outputs": [
        {
          "data": {
            "text/plain": [
              "False"
            ]
          },
          "execution_count": 21,
          "metadata": {},
          "output_type": "execute_result"
        }
      ],
      "source": [
        "even_check(21)"
      ]
    },
    {
      "cell_type": "markdown",
      "metadata": {
        "id": "oVpTr6FvGSM6"
      },
      "source": [
        "### Check if any number in  a list is even\n",
        "\n",
        "Let's return a boolean indicating if **any** number in a list is even. Notice here how **return** breaks out of the loop and exits the function"
      ]
    },
    {
      "cell_type": "code",
      "execution_count": null,
      "metadata": {
        "collapsed": true,
        "id": "X0WEyLuiGSM7"
      },
      "outputs": [],
      "source": [
        "def check_even_list(num_list):\n",
        "    # Go through each number\n",
        "    is_even = True\n",
        "    for number in num_list:\n",
        "        # Once we get a \"hit\" on an even number, we return True\n",
        "        if number % 2 != 0:\n",
        "            is_even = False\n",
        "        # Otherwise we don't do anything\n",
        "        else:\n",
        "            pass\n",
        "    return is_even"
      ]
    },
    {
      "cell_type": "markdown",
      "metadata": {
        "id": "E5H3kTVQGSM7"
      },
      "source": [
        "** Is this enough? NO! We're not returning anything if they are all odds!**"
      ]
    },
    {
      "cell_type": "code",
      "execution_count": null,
      "metadata": {
        "id": "LqDKG4HdGSM7",
        "outputId": "cf7e47b0-6570-4201-b28d-a38af9dbc1bb"
      },
      "outputs": [
        {
          "data": {
            "text/plain": [
              "True"
            ]
          },
          "execution_count": 26,
          "metadata": {},
          "output_type": "execute_result"
        }
      ],
      "source": [
        "check_even_list([1,2,3])"
      ]
    },
    {
      "cell_type": "code",
      "execution_count": null,
      "metadata": {
        "collapsed": true,
        "id": "4WjMkATRGSM8"
      },
      "outputs": [],
      "source": [
        "check_even_list([1,1,1])"
      ]
    },
    {
      "cell_type": "markdown",
      "metadata": {
        "id": "I8fkV8jqGSM8"
      },
      "source": [
        "** VERY COMMON MISTAKE!! LET'S SEE A COMMON LOGIC ERROR, NOTE THIS IS WRONG!!!**"
      ]
    },
    {
      "cell_type": "code",
      "execution_count": null,
      "metadata": {
        "collapsed": true,
        "id": "MmxMX0vRGSM9"
      },
      "outputs": [],
      "source": [
        "def check_even_list(num_list):\n",
        "    # Go through each number\n",
        "    for number in num_list:\n",
        "        # Once we get a \"hit\" on an even number, we return True\n",
        "        if number % 2 == 0:\n",
        "            return True\n",
        "        # This is WRONG! This returns False at the very first odd number!\n",
        "        # It doesn't end up checking the other numbers in the list!\n",
        "        else:\n",
        "            return False"
      ]
    },
    {
      "cell_type": "code",
      "execution_count": null,
      "metadata": {
        "id": "iWXAdijcGSM9",
        "outputId": "ce092694-99d6-46a1-e797-d622757f0c71"
      },
      "outputs": [
        {
          "data": {
            "text/plain": [
              "False"
            ]
          },
          "execution_count": 30,
          "metadata": {},
          "output_type": "execute_result"
        }
      ],
      "source": [
        "# UH OH! It is returning False after hitting the first 1\n",
        "check_even_list([1,2,3])"
      ]
    },
    {
      "cell_type": "markdown",
      "metadata": {
        "id": "ovxHrc6rGSM9"
      },
      "source": [
        "** Correct Approach: We need to initiate a return False AFTER running through the entire loop**"
      ]
    },
    {
      "cell_type": "code",
      "execution_count": null,
      "metadata": {
        "collapsed": true,
        "id": "J-R6M2KcGSM-"
      },
      "outputs": [],
      "source": [
        "def check_even_list(num_list):\n",
        "    # Go through each number\n",
        "    for number in num_list:\n",
        "        # Once we get a \"hit\" on an even number, we return True\n",
        "        if number % 2 == 0:\n",
        "            return True\n",
        "        # Don't do anything if its not even\n",
        "        else:\n",
        "            pass\n",
        "    # Notice the indentation! This ensures we run through the entire for loop    \n",
        "    return False"
      ]
    },
    {
      "cell_type": "code",
      "execution_count": null,
      "metadata": {
        "id": "rPEVegu6GSM-",
        "outputId": "adf4da12-9396-40eb-857b-86375fc211b2"
      },
      "outputs": [
        {
          "data": {
            "text/plain": [
              "True"
            ]
          },
          "execution_count": 32,
          "metadata": {},
          "output_type": "execute_result"
        }
      ],
      "source": [
        "check_even_list([1,2,3])"
      ]
    },
    {
      "cell_type": "code",
      "execution_count": null,
      "metadata": {
        "id": "YGFgboy7GSM-",
        "outputId": "14bf0d5e-e8e6-46fe-e824-a45fc4a4292a"
      },
      "outputs": [
        {
          "data": {
            "text/plain": [
              "False"
            ]
          },
          "execution_count": 34,
          "metadata": {},
          "output_type": "execute_result"
        }
      ],
      "source": [
        "check_even_list([1,3,5])"
      ]
    },
    {
      "cell_type": "markdown",
      "metadata": {
        "id": "OSB26phoGSM_"
      },
      "source": [
        "### Return all even numbers in a list\n",
        "\n",
        "Let's add more complexity, we now will return all the even numbers in a list, otherwise return an empty list."
      ]
    },
    {
      "cell_type": "code",
      "execution_count": null,
      "metadata": {
        "collapsed": true,
        "id": "KAwCBX4tGSM_"
      },
      "outputs": [],
      "source": [
        "def check_even_list(num_list):\n",
        "    \n",
        "    even_numbers = []\n",
        "    \n",
        "    # Go through each number\n",
        "    for number in num_list:\n",
        "        # Once we get a \"hit\" on an even number, we append the even number\n",
        "        if number % 2 == 0:\n",
        "            even_numbers.append(number)\n",
        "        # Don't do anything if its not even\n",
        "        else:\n",
        "            pass\n",
        "    # Notice the indentation! This ensures we run through the entire for loop    \n",
        "    return even_numbers"
      ]
    },
    {
      "cell_type": "code",
      "execution_count": null,
      "metadata": {
        "id": "GuD0mjuXGSNA",
        "outputId": "195b15a2-fe61-4f39-d0a5-ed8c35733a03"
      },
      "outputs": [
        {
          "data": {
            "text/plain": [
              "[2, 4, 6]"
            ]
          },
          "execution_count": 36,
          "metadata": {},
          "output_type": "execute_result"
        }
      ],
      "source": [
        "check_even_list([1,2,3,4,5,6])"
      ]
    },
    {
      "cell_type": "code",
      "execution_count": null,
      "metadata": {
        "id": "sn4CNsilGSNA",
        "outputId": "cd0f3b25-3a0d-4d8c-8f6a-1179fd0c8629"
      },
      "outputs": [
        {
          "data": {
            "text/plain": [
              "[]"
            ]
          },
          "execution_count": 37,
          "metadata": {},
          "output_type": "execute_result"
        }
      ],
      "source": [
        "check_even_list([1,3,5])"
      ]
    },
    {
      "cell_type": "markdown",
      "metadata": {
        "id": "IyZ8PUDGGSNB"
      },
      "source": [
        "## Returning Tuples for Unpacking"
      ]
    },
    {
      "cell_type": "markdown",
      "metadata": {
        "id": "xwV6dY21GSNB"
      },
      "source": [
        "** Recall we can loop through a list of tuples and \"unpack\" the values within them**"
      ]
    },
    {
      "cell_type": "code",
      "execution_count": null,
      "metadata": {
        "collapsed": true,
        "id": "npt8qBQMGSNC"
      },
      "outputs": [],
      "source": [
        "stock_prices = [('AAPL',200),('GOOG',300),('MSFT',400)]"
      ]
    },
    {
      "cell_type": "code",
      "execution_count": null,
      "metadata": {
        "id": "vctU8aGCGSNC",
        "outputId": "bc835f9f-2dc8-4fa5-93f6-38850e6ef51c"
      },
      "outputs": [
        {
          "name": "stdout",
          "output_type": "stream",
          "text": [
            "('AAPL', 200)\n",
            "('GOOG', 300)\n",
            "('MSFT', 400)\n"
          ]
        }
      ],
      "source": [
        "for item in stock_prices:\n",
        "    print(item)"
      ]
    },
    {
      "cell_type": "code",
      "execution_count": null,
      "metadata": {
        "id": "qbmWuKK5GSNC",
        "outputId": "d85262a1-cc09-4241-feaf-790e2471b8b4"
      },
      "outputs": [
        {
          "name": "stdout",
          "output_type": "stream",
          "text": [
            "AAPL\n",
            "GOOG\n",
            "MSFT\n"
          ]
        }
      ],
      "source": [
        "for stock,price in stock_prices:\n",
        "    print(stock)"
      ]
    },
    {
      "cell_type": "code",
      "execution_count": null,
      "metadata": {
        "id": "2Ekcjq8tGSND",
        "outputId": "0228a335-37a5-4461-bd9e-1d4961134cac"
      },
      "outputs": [
        {
          "name": "stdout",
          "output_type": "stream",
          "text": [
            "200\n",
            "300\n",
            "400\n"
          ]
        }
      ],
      "source": [
        "for stock,price in stock_prices:\n",
        "    print(price)"
      ]
    },
    {
      "cell_type": "markdown",
      "metadata": {
        "id": "DfGA7o4-GSND"
      },
      "source": [
        "**Similarly, functions often return tuples, to easily return multiple results for later use.**"
      ]
    },
    {
      "cell_type": "markdown",
      "metadata": {
        "id": "RTIaNNY6GSND"
      },
      "source": [
        "Let's imagine the following list:"
      ]
    },
    {
      "cell_type": "code",
      "execution_count": null,
      "metadata": {
        "collapsed": true,
        "id": "uxgeNTDlGSNE"
      },
      "outputs": [],
      "source": [
        "work_hours = [('Abby',100),('Billy',400),('Cassie',800)]"
      ]
    },
    {
      "cell_type": "markdown",
      "metadata": {
        "id": "yvPKkKpxGSNF"
      },
      "source": [
        "The employee of the month function will return both the name and number of hours worked for the top performer (judged by number of hours worked)."
      ]
    },
    {
      "cell_type": "code",
      "execution_count": null,
      "metadata": {
        "collapsed": true,
        "id": "IHvc2NwKGSNF"
      },
      "outputs": [],
      "source": [
        "def employee_check(work_hours):\n",
        "    \n",
        "    # Set some max value to intially beat, like zero hours\n",
        "    current_max = 0\n",
        "    # Set some empty value before the loop\n",
        "    employee_of_month = ''\n",
        "    \n",
        "    for employee,hours in work_hours:\n",
        "        if hours > current_max:\n",
        "            current_max = hours\n",
        "            employee_of_month = employee\n",
        "        else:\n",
        "            pass\n",
        "    \n",
        "    # Notice the indentation here\n",
        "    return employee_of_month, current_max"
      ]
    },
    {
      "cell_type": "code",
      "execution_count": null,
      "metadata": {
        "id": "1ZtaaTfNGSNG",
        "outputId": "9a75d056-5ae1-4e35-8590-4cd97cec9521",
        "colab": {
          "base_uri": "https://localhost:8080/"
        }
      },
      "outputs": [
        {
          "output_type": "stream",
          "name": "stdout",
          "text": [
            "Cassie\n",
            "800\n"
          ]
        }
      ],
      "source": [
        "name, hours = employee_check(work_hours)\n",
        "print(name)\n",
        "print(hours)"
      ]
    },
    {
      "cell_type": "markdown",
      "metadata": {
        "id": "N5OfD9hxGSNG"
      },
      "source": [
        "## Interactions between functions\n",
        "\n",
        "Functions often use results from other functions, let's see a simple example through a guessing game. There will be 3 positions in the list, one of which is an 'O', a function will shuffle the list, another will take a player's guess, and finally another will check to see if it is correct. This is based on the classic carnival game of guessing which cup a red ball is under."
      ]
    },
    {
      "cell_type": "markdown",
      "metadata": {
        "id": "LmT0O_s2GSNH"
      },
      "source": [
        "**How to shuffle a list in Python**"
      ]
    },
    {
      "cell_type": "code",
      "execution_count": null,
      "metadata": {
        "collapsed": true,
        "id": "QA5mbqcFGSNH"
      },
      "outputs": [],
      "source": [
        "example = [1,2,3,4,5]"
      ]
    },
    {
      "cell_type": "code",
      "execution_count": null,
      "metadata": {
        "collapsed": true,
        "id": "Rl3IJLKsGSNH"
      },
      "outputs": [],
      "source": [
        "from random import shuffle"
      ]
    },
    {
      "cell_type": "code",
      "execution_count": null,
      "metadata": {
        "collapsed": true,
        "id": "yL5R42WBGSNI",
        "colab": {
          "base_uri": "https://localhost:8080/"
        },
        "outputId": "d79d8266-9915-4c92-8455-0a452a04da54"
      },
      "outputs": [
        {
          "output_type": "stream",
          "name": "stdout",
          "text": [
            "None\n"
          ]
        }
      ],
      "source": [
        "# Note shuffle is in-place\n",
        "x = shuffle(example)\n",
        "print(x)"
      ]
    },
    {
      "cell_type": "code",
      "execution_count": null,
      "metadata": {
        "id": "HnHY0OhiGSNI",
        "outputId": "38b5b685-e72f-4e0e-a4ec-aaa27937bfe3",
        "colab": {
          "base_uri": "https://localhost:8080/"
        }
      },
      "outputs": [
        {
          "output_type": "execute_result",
          "data": {
            "text/plain": [
              "[3, 1, 5, 2, 4]"
            ]
          },
          "metadata": {},
          "execution_count": 18
        }
      ],
      "source": [
        "example"
      ]
    },
    {
      "cell_type": "markdown",
      "metadata": {
        "id": "QJtUR8ZyGSNI"
      },
      "source": [
        "**OK, let's create our simple game**"
      ]
    },
    {
      "cell_type": "code",
      "execution_count": null,
      "metadata": {
        "collapsed": true,
        "id": "vwxmKuydGSNI"
      },
      "outputs": [],
      "source": [
        "mylist = [' ','O',' ']"
      ]
    },
    {
      "cell_type": "code",
      "execution_count": null,
      "metadata": {
        "collapsed": true,
        "id": "5lSWBYrSGSNI"
      },
      "outputs": [],
      "source": [
        "def shuffle_list(mylist):\n",
        "    # Take in list, and returned shuffle versioned\n",
        "    shuffle(mylist)\n",
        "    \n",
        "    return mylist"
      ]
    },
    {
      "cell_type": "code",
      "execution_count": null,
      "metadata": {
        "id": "cDZeuOUYGSNI",
        "outputId": "9d04e2fc-0914-442f-ba67-930f5d1d2310"
      },
      "outputs": [
        {
          "data": {
            "text/plain": [
              "[' ', 'O', ' ']"
            ]
          },
          "execution_count": 14,
          "metadata": {},
          "output_type": "execute_result"
        }
      ],
      "source": [
        "mylist "
      ]
    },
    {
      "cell_type": "code",
      "execution_count": null,
      "metadata": {
        "id": "9EIoQsslGSNK",
        "outputId": "ffb6e952-30f4-491d-a801-d92de47e1a81"
      },
      "outputs": [
        {
          "data": {
            "text/plain": [
              "[' ', ' ', 'O']"
            ]
          },
          "execution_count": 15,
          "metadata": {},
          "output_type": "execute_result"
        }
      ],
      "source": [
        "shuffle_list(mylist)"
      ]
    },
    {
      "cell_type": "code",
      "execution_count": null,
      "metadata": {
        "collapsed": true,
        "id": "atZOgjaeGSNK"
      },
      "outputs": [],
      "source": [
        "def player_guess():\n",
        "    \n",
        "    guess = ''\n",
        "    \n",
        "    while guess not in ['0','1','2']:\n",
        "        \n",
        "        # Recall input() returns a string\n",
        "        guess = input(\"Pick a number: 0, 1, or 2:  \")\n",
        "    \n",
        "    return int(guess)    "
      ]
    },
    {
      "cell_type": "code",
      "execution_count": null,
      "metadata": {
        "id": "GpRgW2JkGSNK",
        "outputId": "71ff94f3-296c-4726-cb02-4e1502079b93"
      },
      "outputs": [
        {
          "name": "stdout",
          "output_type": "stream",
          "text": [
            "Pick a number: 0, 1, or 2:  1\n"
          ]
        },
        {
          "data": {
            "text/plain": [
              "1"
            ]
          },
          "execution_count": 24,
          "metadata": {},
          "output_type": "execute_result"
        }
      ],
      "source": [
        "player_guess()"
      ]
    },
    {
      "cell_type": "markdown",
      "metadata": {
        "id": "y--XIcMoGSNL"
      },
      "source": [
        "Now we will check the user's guess. Notice we only print here, since we have no need to save a user's guess or the shuffled list."
      ]
    },
    {
      "cell_type": "code",
      "execution_count": null,
      "metadata": {
        "collapsed": true,
        "id": "33dwp-imGSNL"
      },
      "outputs": [],
      "source": [
        "def check_guess(mylist,guess):\n",
        "    if mylist[guess] == 'O':\n",
        "        print('Correct Guess!')\n",
        "    else:\n",
        "        print('Wrong! Better luck next time')\n",
        "        print(mylist)"
      ]
    },
    {
      "cell_type": "markdown",
      "metadata": {
        "id": "2PYCYWPTGSNM"
      },
      "source": [
        "Now we create a little setup logic to run all the functions. Notice how they interact with each other!"
      ]
    },
    {
      "cell_type": "code",
      "execution_count": null,
      "metadata": {
        "id": "Xt2AZjSnGSNM",
        "outputId": "2708a788-93e1-4f72-93f5-895c40111887"
      },
      "outputs": [
        {
          "name": "stdout",
          "output_type": "stream",
          "text": [
            "Pick a number: 0, 1, or 2:  1\n",
            "Wrong! Better luck next time\n",
            "[' ', ' ', 'O']\n"
          ]
        }
      ],
      "source": [
        "# Initial List\n",
        "mylist = [' ','O',' ']\n",
        "\n",
        "# Shuffle It\n",
        "mixedup_list = shuffle_list(mylist)\n",
        "\n",
        "# Get User's Guess\n",
        "guess = player_guess()\n",
        "\n",
        "# Check User's Guess\n",
        "#------------------------\n",
        "# Notice how this function takes in the input \n",
        "# based on the output of other functions!\n",
        "check_guess(mixedup_list,guess)"
      ]
    },
    {
      "cell_type": "markdown",
      "metadata": {
        "id": "cHR8f8117QIv"
      },
      "source": [
        "# `*args` and `**kwargs`\n",
        "\n",
        "Work with Python long enough, and eventually you will encounter `*args` and `**kwargs`. These strange terms show up as parameters in function definitions. What do they do? Let's review a simple function:"
      ]
    },
    {
      "cell_type": "code",
      "execution_count": null,
      "metadata": {
        "id": "y26AYb4P7QIx",
        "outputId": "717434b4-7f51-4d85-da94-533762913d1e"
      },
      "outputs": [
        {
          "data": {
            "text/plain": [
              "5.0"
            ]
          },
          "execution_count": 1,
          "metadata": {},
          "output_type": "execute_result"
        }
      ],
      "source": [
        "def myfunc(a,b):\n",
        "    return sum((a,b))*.05\n",
        "\n",
        "myfunc(40,60)"
      ]
    },
    {
      "cell_type": "markdown",
      "metadata": {
        "id": "8tW5nTyi7QI2"
      },
      "source": [
        "This function returns 5% of the sum of **a** and **b**. In this example, **a** and **b** are *positional* arguments; that is, 40 is assigned to **a** because it is the first argument, and 60 to **b**. Notice also that to work with multiple positional arguments in the `sum()` function we had to pass them in as a tuple.\n",
        "\n",
        "What if we want to work with more than two numbers? One way would be to assign a *lot* of parameters, and give each one a default value."
      ]
    },
    {
      "cell_type": "code",
      "execution_count": null,
      "metadata": {
        "id": "UJGSUZpa7QI4",
        "outputId": "87f09d9c-a5d3-4b78-b4c1-975955df7de5",
        "colab": {
          "base_uri": "https://localhost:8080/"
        }
      },
      "outputs": [
        {
          "output_type": "execute_result",
          "data": {
            "text/plain": [
              "3.5"
            ]
          },
          "metadata": {},
          "execution_count": 32
        }
      ],
      "source": [
        "def myfunc(**kwargs):\n",
        "  return sum(kwargs.values())*.05\n",
        "\n",
        "myfunc(a=1, c=40, e=20, b=9, my_key=0)"
      ]
    },
    {
      "cell_type": "markdown",
      "source": [
        "##### The following examples are equivalent"
      ],
      "metadata": {
        "id": "4RzHQ2WLRq8B"
      }
    },
    {
      "cell_type": "code",
      "source": [
        "def myfunc(f, kwargs):\n",
        "  print(kwargs)\n",
        "  return sum([1])*.05\n",
        "\n",
        "myfunc(1, {'c': 40, 'e': 20})"
      ],
      "metadata": {
        "colab": {
          "base_uri": "https://localhost:8080/"
        },
        "id": "SI9j5kPuRn6y",
        "outputId": "fd1d51f6-5cc5-49eb-e2e2-1332a5a35b29"
      },
      "execution_count": null,
      "outputs": [
        {
          "output_type": "stream",
          "name": "stdout",
          "text": [
            "{'c': 40, 'e': 20}\n"
          ]
        },
        {
          "output_type": "execute_result",
          "data": {
            "text/plain": [
              "0.05"
            ]
          },
          "metadata": {},
          "execution_count": 25
        }
      ]
    },
    {
      "cell_type": "code",
      "source": [
        "def myfunc(f, **kwargs):\n",
        "  print(kwargs)\n",
        "  return sum([1])*.05\n",
        "\n",
        "myfunc(1, c=40, e=20)"
      ],
      "metadata": {
        "colab": {
          "base_uri": "https://localhost:8080/"
        },
        "id": "VRWQyboGP5jy",
        "outputId": "289ca00b-3953-4580-ae02-9b91c9c1bdfc"
      },
      "execution_count": null,
      "outputs": [
        {
          "output_type": "stream",
          "name": "stdout",
          "text": [
            "{'c': 40, 'e': 20}\n"
          ]
        },
        {
          "output_type": "execute_result",
          "data": {
            "text/plain": [
              "0.05"
            ]
          },
          "metadata": {},
          "execution_count": 26
        }
      ]
    },
    {
      "cell_type": "markdown",
      "metadata": {
        "id": "QcjsCPaz7QI6"
      },
      "source": [
        "Obviously this is not a very efficient solution, and that's where `*args` comes in.\n",
        "\n",
        "## `*args`\n",
        "\n",
        "When a function parameter starts with an asterisk, it allows for an *arbitrary number* of arguments, and the function takes them in as a tuple of values. Rewriting the above function:"
      ]
    },
    {
      "cell_type": "code",
      "execution_count": null,
      "metadata": {
        "id": "ggS6tSgW7QI7",
        "outputId": "a34bfd7d-7236-47bd-ef65-9a65b358630a",
        "colab": {
          "base_uri": "https://localhost:8080/"
        }
      },
      "outputs": [
        {
          "output_type": "stream",
          "name": "stdout",
          "text": [
            "<class 'tuple'>\n"
          ]
        },
        {
          "output_type": "execute_result",
          "data": {
            "text/plain": [
              "6.0"
            ]
          },
          "metadata": {},
          "execution_count": 34
        }
      ],
      "source": [
        "def myfunc(*args):\n",
        "  print(type(args))\n",
        "  return sum(args)*.05\n",
        "\n",
        "myfunc(40,60,20)"
      ]
    },
    {
      "cell_type": "markdown",
      "metadata": {
        "id": "0kytZXxg7QI9"
      },
      "source": [
        "Notice how passing the keyword \"args\" into the `sum()` function did the same thing as a tuple of arguments.\n",
        "\n",
        "It is worth noting that the word \"args\" is itself arbitrary - any word will do so long as it's preceded by an asterisk. To demonstrate this:"
      ]
    },
    {
      "cell_type": "code",
      "execution_count": null,
      "metadata": {
        "id": "Riwi3zun7QI-",
        "outputId": "5469e498-7a9b-4ad1-df22-73df76099b00"
      },
      "outputs": [
        {
          "data": {
            "text/plain": [
              "6.0"
            ]
          },
          "execution_count": 4,
          "metadata": {},
          "output_type": "execute_result"
        }
      ],
      "source": [
        "def myfunc(*spam):\n",
        "    return sum(spam)*.05\n",
        "\n",
        "myfunc(40,60,20)"
      ]
    },
    {
      "cell_type": "markdown",
      "metadata": {
        "id": "gGfZetl97QJA"
      },
      "source": [
        "## `**kwargs`\n",
        "\n",
        "Similarly, Python offers a way to handle arbitrary numbers of *keyworded* arguments. Instead of creating a tuple of values, `**kwargs` builds a dictionary of key/value pairs. For example:"
      ]
    },
    {
      "cell_type": "code",
      "execution_count": null,
      "metadata": {
        "id": "SUjJAjsm7QJB",
        "outputId": "9810ea0c-633b-46e0-d921-2827ed004daf"
      },
      "outputs": [
        {
          "name": "stdout",
          "output_type": "stream",
          "text": [
            "My favorite fruit is pineapple\n"
          ]
        }
      ],
      "source": [
        "def myfunc(**kwargs):\n",
        "    if 'fruit' in kwargs:\n",
        "        print(f\"My favorite fruit is {kwargs['fruit']}\")  # review String Formatting and f-strings if this syntax is unfamiliar\n",
        "    else:\n",
        "        print(\"I don't like fruit\")\n",
        "        \n",
        "myfunc(fruit='pineapple')"
      ]
    },
    {
      "cell_type": "code",
      "execution_count": null,
      "metadata": {
        "id": "GBWYK9oT7QJC",
        "outputId": "cfc296a8-d16d-4fa5-d559-039aefbe0939"
      },
      "outputs": [
        {
          "name": "stdout",
          "output_type": "stream",
          "text": [
            "I don't like fruit\n"
          ]
        }
      ],
      "source": [
        "myfunc()"
      ]
    },
    {
      "cell_type": "markdown",
      "metadata": {
        "id": "rzI-0mP07QJD"
      },
      "source": [
        "## `*args` and `**kwargs` combined\n",
        "\n",
        "You can pass `*args` and `**kwargs` into the same function, but `*args` have to appear before `**kwargs`"
      ]
    },
    {
      "cell_type": "code",
      "execution_count": null,
      "metadata": {
        "id": "EtIHRUGa7QJE",
        "outputId": "1912a1d1-9e9b-4c7b-d446-21e630b611cf"
      },
      "outputs": [
        {
          "name": "stdout",
          "output_type": "stream",
          "text": [
            "I like eggs and spam and my favorite fruit is cherries\n",
            "May I have some orange juice?\n"
          ]
        }
      ],
      "source": [
        "def myfunc(*args, **kwargs):\n",
        "    if 'fruit' and 'juice' in kwargs:\n",
        "        print(f\"I like {' and '.join(args)} and my favorite fruit is {kwargs['fruit']}\")\n",
        "        print(f\"May I have some {kwargs['juice']} juice?\")\n",
        "    else:\n",
        "        pass\n",
        "        \n",
        "myfunc('eggs','spam',fruit='cherries',juice='orange')"
      ]
    },
    {
      "cell_type": "markdown",
      "metadata": {
        "id": "Ju0KmiuC7QJG"
      },
      "source": [
        "Placing keyworded arguments ahead of positional arguments raises an exception:"
      ]
    },
    {
      "cell_type": "code",
      "execution_count": null,
      "metadata": {
        "id": "UCEsDO2P7QJH",
        "outputId": "cb3aeca7-48b9-46b6-a715-69c9f35cd2da"
      },
      "outputs": [
        {
          "ename": "SyntaxError",
          "evalue": "positional argument follows keyword argument (<ipython-input-8-fc6ff65addcc>, line 1)",
          "output_type": "error",
          "traceback": [
            "\u001b[1;36m  File \u001b[1;32m\"<ipython-input-8-fc6ff65addcc>\"\u001b[1;36m, line \u001b[1;32m1\u001b[0m\n\u001b[1;33m    myfunc(fruit='cherries',juice='orange','eggs','spam')\u001b[0m\n\u001b[1;37m                                          ^\u001b[0m\n\u001b[1;31mSyntaxError\u001b[0m\u001b[1;31m:\u001b[0m positional argument follows keyword argument\n"
          ]
        }
      ],
      "source": [
        "myfunc(fruit='cherries',juice='orange','eggs','spam')"
      ]
    },
    {
      "cell_type": "markdown",
      "metadata": {
        "id": "W_jTkBmB7QJI"
      },
      "source": [
        "As with \"args\", you can use any name you'd like for keyworded arguments - \"kwargs\" is just a popular convention.\n",
        "\n",
        "That's it! Now you should understand how `*args` and `**kwargs` provide the flexibilty to work with arbitrary numbers of arguments!"
      ]
    },
    {
      "cell_type": "code",
      "source": [
        "def foo(a, b, d=0, **kwargs):\n",
        "  print(a, b, d, kwargs)"
      ],
      "metadata": {
        "id": "e70z0uGNYQ1Y"
      },
      "execution_count": null,
      "outputs": []
    },
    {
      "cell_type": "code",
      "source": [
        "my_dict = {\n",
        "    'c': 9,\n",
        "    'k1': 10,\n",
        "    'k2': 20\n",
        "}\n",
        "\n",
        "foo(3, 6, **my_dict)"
      ],
      "metadata": {
        "colab": {
          "base_uri": "https://localhost:8080/"
        },
        "id": "snDJZjndYY5C",
        "outputId": "f9c512e5-d068-4266-da84-bcd58d41de77"
      },
      "execution_count": null,
      "outputs": [
        {
          "output_type": "stream",
          "name": "stdout",
          "text": [
            "3 6 0 {'c': 9, 'k1': 10, 'k2': 20}\n"
          ]
        }
      ]
    }
  ]
}